{
  "nbformat": 4,
  "nbformat_minor": 0,
  "metadata": {
    "kernelspec": {
      "display_name": "Python 2",
      "language": "python",
      "name": "python2"
    },
    "language_info": {
      "codemirror_mode": {
        "name": "ipython",
        "version": 2
      },
      "file_extension": ".py",
      "mimetype": "text/x-python",
      "name": "python",
      "nbconvert_exporter": "python",
      "pygments_lexer": "ipython2",
      "version": "2.7.13"
    },
    "colab": {
      "name": "Data_Generation_1.ipynb",
      "provenance": [],
      "toc_visible": true,
      "include_colab_link": true
    }
  },
  "cells": [
    {
      "cell_type": "markdown",
      "metadata": {
        "id": "view-in-github",
        "colab_type": "text"
      },
      "source": [
        "<a href=\"https://colab.research.google.com/github/sahibpreetsingh12/100daysofcode/blob/master/Data_Generation_1.ipynb\" target=\"_parent\"><img src=\"https://colab.research.google.com/assets/colab-badge.svg\" alt=\"Open In Colab\"/></a>"
      ]
    },
    {
      "cell_type": "markdown",
      "metadata": {
        "id": "afQczCxgKuff",
        "colab_type": "text"
      },
      "source": [
        "## Generating data for Number of sessions per User"
      ]
    },
    {
      "cell_type": "code",
      "metadata": {
        "id": "ZdyFP7wFKufk",
        "colab_type": "code",
        "colab": {}
      },
      "source": [
        "import scipy\n",
        "from  scipy   import   stats\n",
        "import random"
      ],
      "execution_count": 0,
      "outputs": []
    },
    {
      "cell_type": "code",
      "metadata": {
        "id": "GQHErqplLHYv",
        "colab_type": "code",
        "colab": {}
      },
      "source": [
        "import numpy as np\n",
        "import matplotlib.pyplot as plt\n"
      ],
      "execution_count": 0,
      "outputs": []
    },
    {
      "cell_type": "code",
      "metadata": {
        "id": "k60ECyQiKuf0",
        "colab_type": "code",
        "colab": {}
      },
      "source": [
        "\n",
        "\n",
        "def generate():\n",
        "  random.seed(15)\n",
        "\n",
        "\n",
        "  user_session = stats.geom.rvs(size=4000,p=0.3)\n",
        "  return user_session\n",
        "          # Generate geometric data\n",
        "         # With success prob 0.3\n",
        "        \n",
        "                                \n",
        "user_session=generate()\n"
      ],
      "execution_count": 0,
      "outputs": []
    },
    {
      "cell_type": "code",
      "metadata": {
        "id": "6ORzzSlnKugC",
        "colab_type": "code",
        "outputId": "de40999c-f05a-4d63-dfc8-a8e88b051aa9",
        "colab": {
          "base_uri": "https://localhost:8080/",
          "height": 34
        }
      },
      "source": [
        "user_session.size,user_session.max(),user_session.min()"
      ],
      "execution_count": 0,
      "outputs": [
        {
          "output_type": "execute_result",
          "data": {
            "text/plain": [
              "(4000, 26, 1)"
            ]
          },
          "metadata": {
            "tags": []
          },
          "execution_count": 52
        }
      ]
    },
    {
      "cell_type": "code",
      "metadata": {
        "id": "Yzr_YzJ9KugR",
        "colab_type": "code",
        "outputId": "788053b8-e5b0-4ab0-d83c-29edb3c337d9",
        "colab": {
          "base_uri": "https://localhost:8080/",
          "height": 34
        }
      },
      "source": [
        "user_session[:10],sum(user_session)"
      ],
      "execution_count": 0,
      "outputs": [
        {
          "output_type": "execute_result",
          "data": {
            "text/plain": [
              "(array([3, 2, 3, 3, 4, 1, 1, 1, 1, 4]), 13319)"
            ]
          },
          "metadata": {
            "tags": []
          },
          "execution_count": 53
        }
      ]
    },
    {
      "cell_type": "code",
      "metadata": {
        "id": "m8y-qEB_Kugd",
        "colab_type": "code",
        "outputId": "30dc573d-c756-4a71-e991-5feeef4c6dab",
        "colab": {
          "base_uri": "https://localhost:8080/",
          "height": 386
        }
      },
      "source": [
        "count_dict = {x : list(user_session).count(x) for x in user_session}\n",
        "count_dict"
      ],
      "execution_count": 0,
      "outputs": [
        {
          "output_type": "execute_result",
          "data": {
            "text/plain": [
              "{1: 1224,\n",
              " 2: 820,\n",
              " 3: 599,\n",
              " 4: 396,\n",
              " 5: 283,\n",
              " 6: 201,\n",
              " 7: 147,\n",
              " 8: 104,\n",
              " 9: 64,\n",
              " 10: 46,\n",
              " 11: 36,\n",
              " 12: 19,\n",
              " 13: 19,\n",
              " 14: 11,\n",
              " 15: 10,\n",
              " 16: 7,\n",
              " 17: 6,\n",
              " 18: 2,\n",
              " 20: 2,\n",
              " 21: 1,\n",
              " 22: 2,\n",
              " 26: 1}"
            ]
          },
          "metadata": {
            "tags": []
          },
          "execution_count": 54
        }
      ]
    },
    {
      "cell_type": "code",
      "metadata": {
        "id": "CGko8GRJKugo",
        "colab_type": "code",
        "outputId": "f5a63363-e87c-404a-e358-742ec02215eb",
        "colab": {
          "base_uri": "https://localhost:8080/",
          "height": 295
        }
      },
      "source": [
        "   #depicts number of users per number of sessions\n",
        "    \n",
        "bins = np.arange(0, 10, 1) # fixed bin size\n",
        "\n",
        "plt.xlim([min(user_session)-1, max(user_session) +1])\n",
        "\n",
        "plt.hist(user_session, bins=bins, alpha=0.5)\n",
        "plt.title(\"Count of Number of users per session\")\n",
        "plt.xlabel('Number of sessions (bin size = 1)')\n",
        "plt.ylabel('count')\n",
        "\n",
        "plt.show()"
      ],
      "execution_count": 0,
      "outputs": [
        {
          "output_type": "display_data",
          "data": {
            "image/png": "[encoded data removed]",
            "text/plain": [
              "<Figure size 432x288 with 1 Axes>"
            ]
          },
          "metadata": {
            "tags": [],
            "needs_background": "light"
          }
        }
      ]
    },
    {
      "cell_type": "code",
      "metadata": {
        "id": "qp8tWEcCKug0",
        "colab_type": "code",
        "colab": {}
      },
      "source": [
        "import numpy as np\n",
        "\n",
        "user_Id = range(1,4000)"
      ],
      "execution_count": 0,
      "outputs": []
    },
    {
      "cell_type": "code",
      "metadata": {
        "id": "V0gvOghUKuhG",
        "colab_type": "code",
        "colab": {}
      },
      "source": [
        "userId_session = zip(user_Id,[10*i for i in user_session])"
      ],
      "execution_count": 0,
      "outputs": []
    },
    {
      "cell_type": "code",
      "metadata": {
        "id": "-p9FkPFKKuhd",
        "colab_type": "code",
        "outputId": "8a29e0fe-3175-45ca-c3da-225c41b30a7b",
        "colab": {
          "base_uri": "https://localhost:8080/",
          "height": 34
        }
      },
      "source": [
        "type(userId_session), userId_session[:5]"
      ],
      "execution_count": 0,
      "outputs": [
        {
          "output_type": "execute_result",
          "data": {
            "text/plain": [
              "(list, [(1, 10), (2, 70), (3, 20), (4, 30), (5, 10)])"
            ]
          },
          "metadata": {
            "tags": []
          },
          "execution_count": 10
        }
      ]
    },
    {
      "cell_type": "code",
      "metadata": {
        "id": "I_2MZLPoKuho",
        "colab_type": "code",
        "outputId": "57ce7ab7-5c38-4eed-ed36-fdf9b2515924",
        "colab": {
          "base_uri": "https://localhost:8080/",
          "height": 34
        }
      },
      "source": [
        "#Calculating total number of articles served in a day in all sessions (may be clicked or not)\n",
        "\n",
        "sum1 = 0\n",
        "for i in range(len(userId_session)):\n",
        "    \n",
        "    sum1 += userId_session[i][1]\n",
        "    \n",
        "sum1    "
      ],
      "execution_count": 0,
      "outputs": [
        {
          "output_type": "execute_result",
          "data": {
            "text/plain": [
              "136160"
            ]
          },
          "metadata": {
            "tags": []
          },
          "execution_count": 11
        }
      ]
    },
    {
      "cell_type": "code",
      "metadata": {
        "id": "iSG5ix4qKuhz",
        "colab_type": "code",
        "colab": {}
      },
      "source": [
        "UserIDs = []\n",
        "\n",
        "for i in range(len(userId_session)):\n",
        "    \n",
        "    for j in range(userId_session[i][1]):\n",
        "        UserIDs.append(userId_session[i][0])\n",
        "            "
      ],
      "execution_count": 0,
      "outputs": []
    },
    {
      "cell_type": "code",
      "metadata": {
        "id": "dkTX_oVnKuiD",
        "colab_type": "code",
        "outputId": "be0ecf4b-d8aa-4b5b-9dcd-28113e23f3e2",
        "colab": {
          "base_uri": "https://localhost:8080/",
          "height": 34
        }
      },
      "source": [
        "len(UserIDs)   #matches with sum1 above"
      ],
      "execution_count": 0,
      "outputs": [
        {
          "output_type": "execute_result",
          "data": {
            "text/plain": [
              "136160"
            ]
          },
          "metadata": {
            "tags": []
          },
          "execution_count": 13
        }
      ]
    },
    {
      "cell_type": "code",
      "metadata": {
        "id": "qsnDd_5PKuiO",
        "colab_type": "code",
        "outputId": "d0a74ea8-add5-44ae-d2d6-040379b1f47c",
        "colab": {
          "base_uri": "https://localhost:8080/",
          "height": 34
        }
      },
      "source": [
        "UserIDs[:20]   # UserIds generated for all sessions the user opens"
      ],
      "execution_count": 0,
      "outputs": [
        {
          "output_type": "execute_result",
          "data": {
            "text/plain": [
              "[1, 1, 1, 1, 1, 1, 1, 1, 1, 1, 2, 2, 2, 2, 2, 2, 2, 2, 2, 2]"
            ]
          },
          "metadata": {
            "tags": []
          },
          "execution_count": 14
        }
      ]
    },
    {
      "cell_type": "code",
      "metadata": {
        "id": "aZ69Q06CKuiZ",
        "colab_type": "code",
        "outputId": "14d7964c-491a-41a3-aaf2-462e473baad2",
        "colab": {
          "base_uri": "https://localhost:8080/",
          "height": 34
        }
      },
      "source": [
        "session_list = list(user_session)\n",
        "session_list[:10]"
      ],
      "execution_count": 0,
      "outputs": [
        {
          "output_type": "execute_result",
          "data": {
            "text/plain": [
              "[1, 7, 2, 3, 1, 1, 4, 2, 3, 5]"
            ]
          },
          "metadata": {
            "tags": []
          },
          "execution_count": 15
        }
      ]
    },
    {
      "cell_type": "code",
      "metadata": {
        "id": "cO-ShKNYKuij",
        "colab_type": "code",
        "colab": {}
      },
      "source": [
        "session_Id =[]\n",
        "\n",
        "for i in session_list:\n",
        "    \n",
        "    for j in range(1,i+1):\n",
        "#         print j\n",
        "        session_Id.append([j for i in range(10)])\n",
        "        \n",
        "  "
      ],
      "execution_count": 0,
      "outputs": []
    },
    {
      "cell_type": "code",
      "metadata": {
        "id": "fRZexGygMnbm",
        "colab_type": "code",
        "outputId": "6bb4d0d8-8779-447e-cecd-e7586fe8c6fb",
        "colab": {
          "base_uri": "https://localhost:8080/",
          "height": 1000
        }
      },
      "source": [
        "session_Id[:100]"
      ],
      "execution_count": 0,
      "outputs": [
        {
          "output_type": "execute_result",
          "data": {
            "text/plain": [
              "[[1, 1, 1, 1, 1, 1, 1, 1, 1, 1],\n",
              " [1, 1, 1, 1, 1, 1, 1, 1, 1, 1],\n",
              " [2, 2, 2, 2, 2, 2, 2, 2, 2, 2],\n",
              " [3, 3, 3, 3, 3, 3, 3, 3, 3, 3],\n",
              " [4, 4, 4, 4, 4, 4, 4, 4, 4, 4],\n",
              " [5, 5, 5, 5, 5, 5, 5, 5, 5, 5],\n",
              " [6, 6, 6, 6, 6, 6, 6, 6, 6, 6],\n",
              " [7, 7, 7, 7, 7, 7, 7, 7, 7, 7],\n",
              " [1, 1, 1, 1, 1, 1, 1, 1, 1, 1],\n",
              " [2, 2, 2, 2, 2, 2, 2, 2, 2, 2],\n",
              " [1, 1, 1, 1, 1, 1, 1, 1, 1, 1],\n",
              " [2, 2, 2, 2, 2, 2, 2, 2, 2, 2],\n",
              " [3, 3, 3, 3, 3, 3, 3, 3, 3, 3],\n",
              " [1, 1, 1, 1, 1, 1, 1, 1, 1, 1],\n",
              " [1, 1, 1, 1, 1, 1, 1, 1, 1, 1],\n",
              " [1, 1, 1, 1, 1, 1, 1, 1, 1, 1],\n",
              " [2, 2, 2, 2, 2, 2, 2, 2, 2, 2],\n",
              " [3, 3, 3, 3, 3, 3, 3, 3, 3, 3],\n",
              " [4, 4, 4, 4, 4, 4, 4, 4, 4, 4],\n",
              " [1, 1, 1, 1, 1, 1, 1, 1, 1, 1],\n",
              " [2, 2, 2, 2, 2, 2, 2, 2, 2, 2],\n",
              " [1, 1, 1, 1, 1, 1, 1, 1, 1, 1],\n",
              " [2, 2, 2, 2, 2, 2, 2, 2, 2, 2],\n",
              " [3, 3, 3, 3, 3, 3, 3, 3, 3, 3],\n",
              " [1, 1, 1, 1, 1, 1, 1, 1, 1, 1],\n",
              " [2, 2, 2, 2, 2, 2, 2, 2, 2, 2],\n",
              " [3, 3, 3, 3, 3, 3, 3, 3, 3, 3],\n",
              " [4, 4, 4, 4, 4, 4, 4, 4, 4, 4],\n",
              " [5, 5, 5, 5, 5, 5, 5, 5, 5, 5],\n",
              " [1, 1, 1, 1, 1, 1, 1, 1, 1, 1],\n",
              " [2, 2, 2, 2, 2, 2, 2, 2, 2, 2],\n",
              " [3, 3, 3, 3, 3, 3, 3, 3, 3, 3],\n",
              " [1, 1, 1, 1, 1, 1, 1, 1, 1, 1],\n",
              " [2, 2, 2, 2, 2, 2, 2, 2, 2, 2],\n",
              " [3, 3, 3, 3, 3, 3, 3, 3, 3, 3],\n",
              " [4, 4, 4, 4, 4, 4, 4, 4, 4, 4],\n",
              " [5, 5, 5, 5, 5, 5, 5, 5, 5, 5],\n",
              " [1, 1, 1, 1, 1, 1, 1, 1, 1, 1],\n",
              " [1, 1, 1, 1, 1, 1, 1, 1, 1, 1],\n",
              " [2, 2, 2, 2, 2, 2, 2, 2, 2, 2],\n",
              " [3, 3, 3, 3, 3, 3, 3, 3, 3, 3],\n",
              " [1, 1, 1, 1, 1, 1, 1, 1, 1, 1],\n",
              " [2, 2, 2, 2, 2, 2, 2, 2, 2, 2],\n",
              " [3, 3, 3, 3, 3, 3, 3, 3, 3, 3],\n",
              " [1, 1, 1, 1, 1, 1, 1, 1, 1, 1],\n",
              " [2, 2, 2, 2, 2, 2, 2, 2, 2, 2],\n",
              " [1, 1, 1, 1, 1, 1, 1, 1, 1, 1],\n",
              " [2, 2, 2, 2, 2, 2, 2, 2, 2, 2],\n",
              " [3, 3, 3, 3, 3, 3, 3, 3, 3, 3],\n",
              " [4, 4, 4, 4, 4, 4, 4, 4, 4, 4],\n",
              " [5, 5, 5, 5, 5, 5, 5, 5, 5, 5],\n",
              " [1, 1, 1, 1, 1, 1, 1, 1, 1, 1],\n",
              " [2, 2, 2, 2, 2, 2, 2, 2, 2, 2],\n",
              " [3, 3, 3, 3, 3, 3, 3, 3, 3, 3],\n",
              " [4, 4, 4, 4, 4, 4, 4, 4, 4, 4],\n",
              " [5, 5, 5, 5, 5, 5, 5, 5, 5, 5],\n",
              " [6, 6, 6, 6, 6, 6, 6, 6, 6, 6],\n",
              " [7, 7, 7, 7, 7, 7, 7, 7, 7, 7],\n",
              " [8, 8, 8, 8, 8, 8, 8, 8, 8, 8],\n",
              " [9, 9, 9, 9, 9, 9, 9, 9, 9, 9],\n",
              " [10, 10, 10, 10, 10, 10, 10, 10, 10, 10],\n",
              " [11, 11, 11, 11, 11, 11, 11, 11, 11, 11],\n",
              " [12, 12, 12, 12, 12, 12, 12, 12, 12, 12],\n",
              " [13, 13, 13, 13, 13, 13, 13, 13, 13, 13],\n",
              " [14, 14, 14, 14, 14, 14, 14, 14, 14, 14],\n",
              " [1, 1, 1, 1, 1, 1, 1, 1, 1, 1],\n",
              " [1, 1, 1, 1, 1, 1, 1, 1, 1, 1],\n",
              " [2, 2, 2, 2, 2, 2, 2, 2, 2, 2],\n",
              " [1, 1, 1, 1, 1, 1, 1, 1, 1, 1],\n",
              " [2, 2, 2, 2, 2, 2, 2, 2, 2, 2],\n",
              " [1, 1, 1, 1, 1, 1, 1, 1, 1, 1],\n",
              " [2, 2, 2, 2, 2, 2, 2, 2, 2, 2],\n",
              " [3, 3, 3, 3, 3, 3, 3, 3, 3, 3],\n",
              " [4, 4, 4, 4, 4, 4, 4, 4, 4, 4],\n",
              " [5, 5, 5, 5, 5, 5, 5, 5, 5, 5],\n",
              " [1, 1, 1, 1, 1, 1, 1, 1, 1, 1],\n",
              " [2, 2, 2, 2, 2, 2, 2, 2, 2, 2],\n",
              " [3, 3, 3, 3, 3, 3, 3, 3, 3, 3],\n",
              " [4, 4, 4, 4, 4, 4, 4, 4, 4, 4],\n",
              " [1, 1, 1, 1, 1, 1, 1, 1, 1, 1],\n",
              " [1, 1, 1, 1, 1, 1, 1, 1, 1, 1],\n",
              " [2, 2, 2, 2, 2, 2, 2, 2, 2, 2],\n",
              " [3, 3, 3, 3, 3, 3, 3, 3, 3, 3],\n",
              " [4, 4, 4, 4, 4, 4, 4, 4, 4, 4],\n",
              " [5, 5, 5, 5, 5, 5, 5, 5, 5, 5],\n",
              " [6, 6, 6, 6, 6, 6, 6, 6, 6, 6],\n",
              " [7, 7, 7, 7, 7, 7, 7, 7, 7, 7],\n",
              " [8, 8, 8, 8, 8, 8, 8, 8, 8, 8],\n",
              " [1, 1, 1, 1, 1, 1, 1, 1, 1, 1],\n",
              " [2, 2, 2, 2, 2, 2, 2, 2, 2, 2],\n",
              " [3, 3, 3, 3, 3, 3, 3, 3, 3, 3],\n",
              " [4, 4, 4, 4, 4, 4, 4, 4, 4, 4],\n",
              " [1, 1, 1, 1, 1, 1, 1, 1, 1, 1],\n",
              " [2, 2, 2, 2, 2, 2, 2, 2, 2, 2],\n",
              " [3, 3, 3, 3, 3, 3, 3, 3, 3, 3],\n",
              " [1, 1, 1, 1, 1, 1, 1, 1, 1, 1],\n",
              " [2, 2, 2, 2, 2, 2, 2, 2, 2, 2],\n",
              " [1, 1, 1, 1, 1, 1, 1, 1, 1, 1],\n",
              " [1, 1, 1, 1, 1, 1, 1, 1, 1, 1],\n",
              " [1, 1, 1, 1, 1, 1, 1, 1, 1, 1]]"
            ]
          },
          "metadata": {
            "tags": []
          },
          "execution_count": 17
        }
      ]
    },
    {
      "cell_type": "code",
      "metadata": {
        "id": "S3Kq4U6MKuiv",
        "colab_type": "code",
        "colab": {}
      },
      "source": [
        "session_Id = np.array(session_Id).flatten()"
      ],
      "execution_count": 0,
      "outputs": []
    },
    {
      "cell_type": "code",
      "metadata": {
        "id": "aHfA8XMWKui8",
        "colab_type": "code",
        "outputId": "2214d69c-d7cf-40a3-eb79-23882a8b3051",
        "colab": {
          "base_uri": "https://localhost:8080/",
          "height": 34
        }
      },
      "source": [
        "session_Id.shape"
      ],
      "execution_count": 0,
      "outputs": [
        {
          "output_type": "execute_result",
          "data": {
            "text/plain": [
              "(136170,)"
            ]
          },
          "metadata": {
            "tags": []
          },
          "execution_count": 19
        }
      ]
    },
    {
      "cell_type": "code",
      "metadata": {
        "id": "3mfTGHMtKujO",
        "colab_type": "code",
        "colab": {}
      },
      "source": [
        "User_session = zip(UserIDs,session_Id )"
      ],
      "execution_count": 0,
      "outputs": []
    },
    {
      "cell_type": "code",
      "metadata": {
        "id": "g0DxvHXUKujY",
        "colab_type": "code",
        "outputId": "629d4b3c-6b22-4d6c-aab1-1467fee455e7",
        "colab": {
          "base_uri": "https://localhost:8080/",
          "height": 34
        }
      },
      "source": [
        "len(User_session),type(User_session)"
      ],
      "execution_count": 0,
      "outputs": [
        {
          "output_type": "execute_result",
          "data": {
            "text/plain": [
              "(136160, list)"
            ]
          },
          "metadata": {
            "tags": []
          },
          "execution_count": 21
        }
      ]
    },
    {
      "cell_type": "code",
      "metadata": {
        "id": "HImQ_rxQNnin",
        "colab_type": "code",
        "outputId": "efb8b77d-dff6-4c7e-de2a-43023a747e82",
        "colab": {
          "base_uri": "https://localhost:8080/",
          "height": 420
        }
      },
      "source": [
        "User_session[:24]"
      ],
      "execution_count": 0,
      "outputs": [
        {
          "output_type": "execute_result",
          "data": {
            "text/plain": [
              "[(1, 1),\n",
              " (1, 1),\n",
              " (1, 1),\n",
              " (1, 1),\n",
              " (1, 1),\n",
              " (1, 1),\n",
              " (1, 1),\n",
              " (1, 1),\n",
              " (1, 1),\n",
              " (1, 1),\n",
              " (2, 1),\n",
              " (2, 1),\n",
              " (2, 1),\n",
              " (2, 1),\n",
              " (2, 1),\n",
              " (2, 1),\n",
              " (2, 1),\n",
              " (2, 1),\n",
              " (2, 1),\n",
              " (2, 1),\n",
              " (2, 2),\n",
              " (2, 2),\n",
              " (2, 2),\n",
              " (2, 2)]"
            ]
          },
          "metadata": {
            "tags": []
          },
          "execution_count": 22
        }
      ]
    },
    {
      "cell_type": "code",
      "metadata": {
        "id": "D84jQB2YKujh",
        "colab_type": "code",
        "colab": {}
      },
      "source": [
        "import pandas as pd\n",
        "\n",
        "df = pd.DataFrame(User_session, columns=['UserId', 'SessionId'])"
      ],
      "execution_count": 0,
      "outputs": []
    },
    {
      "cell_type": "code",
      "metadata": {
        "id": "F3ep-TLBKujq",
        "colab_type": "code",
        "outputId": "c079c469-a46c-4df5-ebd0-6b106b7d93d0",
        "colab": {
          "base_uri": "https://localhost:8080/",
          "height": 906
        }
      },
      "source": [
        "df.head(29)"
      ],
      "execution_count": 0,
      "outputs": [
        {
          "output_type": "execute_result",
          "data": {
            "text/plain": [
              "    UserId  SessionId\n",
              "0        1          1\n",
              "1        1          1\n",
              "2        1          1\n",
              "3        1          1\n",
              "4        1          1\n",
              "5        1          1\n",
              "6        1          1\n",
              "7        1          1\n",
              "8        1          1\n",
              "9        1          1\n",
              "10       2          1\n",
              "11       2          1\n",
              "12       2          1\n",
              "13       2          1\n",
              "14       2          1\n",
              "15       2          1\n",
              "16       2          1\n",
              "17       2          1\n",
              "18       2          1\n",
              "19       2          1\n",
              "20       2          2\n",
              "21       2          2\n",
              "22       2          2\n",
              "23       2          2\n",
              "24       2          2\n",
              "25       2          2\n",
              "26       2          2\n",
              "27       2          2\n",
              "28       2          2"
            ],
            "text/html": [
              "<div>\n",
              "<style scoped>\n",
              "    .dataframe tbody tr th:only-of-type {\n",
              "        vertical-align: middle;\n",
              "    }\n",
              "\n",
              "    .dataframe tbody tr th {\n",
              "        vertical-align: top;\n",
              "    }\n",
              "\n",
              "    .dataframe thead th {\n",
              "        text-align: right;\n",
              "    }\n",
              "</style>\n",
              "<table border=\"1\" class=\"dataframe\">\n",
              "  <thead>\n",
              "    <tr style=\"text-align: right;\">\n",
              "      <th></th>\n",
              "      <th>UserId</th>\n",
              "      <th>SessionId</th>\n",
              "    </tr>\n",
              "  </thead>\n",
              "  <tbody>\n",
              "    <tr>\n",
              "      <th>0</th>\n",
              "      <td>1</td>\n",
              "      <td>1</td>\n",
              "    </tr>\n",
              "    <tr>\n",
              "      <th>1</th>\n",
              "      <td>1</td>\n",
              "      <td>1</td>\n",
              "    </tr>\n",
              "    <tr>\n",
              "      <th>2</th>\n",
              "      <td>1</td>\n",
              "      <td>1</td>\n",
              "    </tr>\n",
              "    <tr>\n",
              "      <th>3</th>\n",
              "      <td>1</td>\n",
              "      <td>1</td>\n",
              "    </tr>\n",
              "    <tr>\n",
              "      <th>4</th>\n",
              "      <td>1</td>\n",
              "      <td>1</td>\n",
              "    </tr>\n",
              "    <tr>\n",
              "      <th>5</th>\n",
              "      <td>1</td>\n",
              "      <td>1</td>\n",
              "    </tr>\n",
              "    <tr>\n",
              "      <th>6</th>\n",
              "      <td>1</td>\n",
              "      <td>1</td>\n",
              "    </tr>\n",
              "    <tr>\n",
              "      <th>7</th>\n",
              "      <td>1</td>\n",
              "      <td>1</td>\n",
              "    </tr>\n",
              "    <tr>\n",
              "      <th>8</th>\n",
              "      <td>1</td>\n",
              "      <td>1</td>\n",
              "    </tr>\n",
              "    <tr>\n",
              "      <th>9</th>\n",
              "      <td>1</td>\n",
              "      <td>1</td>\n",
              "    </tr>\n",
              "    <tr>\n",
              "      <th>10</th>\n",
              "      <td>2</td>\n",
              "      <td>1</td>\n",
              "    </tr>\n",
              "    <tr>\n",
              "      <th>11</th>\n",
              "      <td>2</td>\n",
              "      <td>1</td>\n",
              "    </tr>\n",
              "    <tr>\n",
              "      <th>12</th>\n",
              "      <td>2</td>\n",
              "      <td>1</td>\n",
              "    </tr>\n",
              "    <tr>\n",
              "      <th>13</th>\n",
              "      <td>2</td>\n",
              "      <td>1</td>\n",
              "    </tr>\n",
              "    <tr>\n",
              "      <th>14</th>\n",
              "      <td>2</td>\n",
              "      <td>1</td>\n",
              "    </tr>\n",
              "    <tr>\n",
              "      <th>15</th>\n",
              "      <td>2</td>\n",
              "      <td>1</td>\n",
              "    </tr>\n",
              "    <tr>\n",
              "      <th>16</th>\n",
              "      <td>2</td>\n",
              "      <td>1</td>\n",
              "    </tr>\n",
              "    <tr>\n",
              "      <th>17</th>\n",
              "      <td>2</td>\n",
              "      <td>1</td>\n",
              "    </tr>\n",
              "    <tr>\n",
              "      <th>18</th>\n",
              "      <td>2</td>\n",
              "      <td>1</td>\n",
              "    </tr>\n",
              "    <tr>\n",
              "      <th>19</th>\n",
              "      <td>2</td>\n",
              "      <td>1</td>\n",
              "    </tr>\n",
              "    <tr>\n",
              "      <th>20</th>\n",
              "      <td>2</td>\n",
              "      <td>2</td>\n",
              "    </tr>\n",
              "    <tr>\n",
              "      <th>21</th>\n",
              "      <td>2</td>\n",
              "      <td>2</td>\n",
              "    </tr>\n",
              "    <tr>\n",
              "      <th>22</th>\n",
              "      <td>2</td>\n",
              "      <td>2</td>\n",
              "    </tr>\n",
              "    <tr>\n",
              "      <th>23</th>\n",
              "      <td>2</td>\n",
              "      <td>2</td>\n",
              "    </tr>\n",
              "    <tr>\n",
              "      <th>24</th>\n",
              "      <td>2</td>\n",
              "      <td>2</td>\n",
              "    </tr>\n",
              "    <tr>\n",
              "      <th>25</th>\n",
              "      <td>2</td>\n",
              "      <td>2</td>\n",
              "    </tr>\n",
              "    <tr>\n",
              "      <th>26</th>\n",
              "      <td>2</td>\n",
              "      <td>2</td>\n",
              "    </tr>\n",
              "    <tr>\n",
              "      <th>27</th>\n",
              "      <td>2</td>\n",
              "      <td>2</td>\n",
              "    </tr>\n",
              "    <tr>\n",
              "      <th>28</th>\n",
              "      <td>2</td>\n",
              "      <td>2</td>\n",
              "    </tr>\n",
              "  </tbody>\n",
              "</table>\n",
              "</div>"
            ]
          },
          "metadata": {
            "tags": []
          },
          "execution_count": 24
        }
      ]
    },
    {
      "cell_type": "code",
      "metadata": {
        "id": "nePcSllBKujz",
        "colab_type": "code",
        "colab": {}
      },
      "source": [
        "Article_Id = range(4829)\n"
      ],
      "execution_count": 0,
      "outputs": []
    },
    {
      "cell_type": "code",
      "metadata": {
        "id": "3vdwds_-OcdG",
        "colab_type": "code",
        "outputId": "286e710e-5cf1-4aa1-ef13-111865487d2f",
        "colab": {
          "base_uri": "https://localhost:8080/",
          "height": 34
        }
      },
      "source": [
        "133180/4829   #  total articles served  in day divided   by  total no  of unique articles"
      ],
      "execution_count": 0,
      "outputs": [
        {
          "output_type": "execute_result",
          "data": {
            "text/plain": [
              "27"
            ]
          },
          "metadata": {
            "tags": []
          },
          "execution_count": 26
        }
      ]
    },
    {
      "cell_type": "code",
      "metadata": {
        "id": "tJTlNRoEKuj9",
        "colab_type": "code",
        "outputId": "05d66ccb-3289-482e-ac04-4149089769c6",
        "colab": {
          "base_uri": "https://localhost:8080/",
          "height": 34
        }
      },
      "source": [
        "Article_Id = Article_Id*(136170/4829)  \n",
        "\n",
        "len(Article_Id)"
      ],
      "execution_count": 0,
      "outputs": [
        {
          "output_type": "execute_result",
          "data": {
            "text/plain": [
              "135212"
            ]
          },
          "metadata": {
            "tags": []
          },
          "execution_count": 27
        }
      ]
    },
    {
      "cell_type": "code",
      "metadata": {
        "id": "9779YcTpgQje",
        "colab_type": "code",
        "outputId": "6898d6cb-ec60-42a6-866a-43094d084afb",
        "colab": {
          "base_uri": "https://localhost:8080/",
          "height": 34
        }
      },
      "source": [
        "len(User_session)-len(Article_Id)"
      ],
      "execution_count": 0,
      "outputs": [
        {
          "output_type": "execute_result",
          "data": {
            "text/plain": [
              "948"
            ]
          },
          "metadata": {
            "tags": []
          },
          "execution_count": 28
        }
      ]
    },
    {
      "cell_type": "code",
      "metadata": {
        "id": "syjmvbQQKukG",
        "colab_type": "code",
        "colab": {}
      },
      "source": [
        "import random\n",
        "for x in range(len(User_session)-len(Article_Id)):# to   make square   matrix\n",
        "    Article_Id.append(random.randint(1,4829))"
      ],
      "execution_count": 0,
      "outputs": []
    },
    {
      "cell_type": "code",
      "metadata": {
        "id": "zpaggTz9KukO",
        "colab_type": "code",
        "outputId": "0360cace-9269-4cd8-fbe7-de8c6afd2a6e",
        "colab": {
          "base_uri": "https://localhost:8080/",
          "height": 34
        }
      },
      "source": [
        "len(Article_Id)"
      ],
      "execution_count": 0,
      "outputs": [
        {
          "output_type": "execute_result",
          "data": {
            "text/plain": [
              "136160"
            ]
          },
          "metadata": {
            "tags": []
          },
          "execution_count": 30
        }
      ]
    },
    {
      "cell_type": "code",
      "metadata": {
        "id": "gt2zNWRkKukb",
        "colab_type": "code",
        "colab": {}
      },
      "source": [
        "from random import shuffle\n",
        "shuffle(Article_Id)"
      ],
      "execution_count": 0,
      "outputs": []
    },
    {
      "cell_type": "code",
      "metadata": {
        "id": "EJZ_hfsfKukh",
        "colab_type": "code",
        "colab": {}
      },
      "source": [
        "df['ArticleId_served'] = Article_Id"
      ],
      "execution_count": 0,
      "outputs": []
    },
    {
      "cell_type": "code",
      "metadata": {
        "id": "g-N8oUWJhcmo",
        "colab_type": "code",
        "colab": {}
      },
      "source": [
        ""
      ],
      "execution_count": 0,
      "outputs": []
    },
    {
      "cell_type": "code",
      "metadata": {
        "id": "9mOy0iY6Kukm",
        "colab_type": "code",
        "outputId": "bedf42e7-6d25-47f8-f772-1fadd0d012e7",
        "colab": {
          "base_uri": "https://localhost:8080/",
          "height": 343
        }
      },
      "source": [
        "df.head(10)"
      ],
      "execution_count": 0,
      "outputs": [
        {
          "output_type": "execute_result",
          "data": {
            "text/plain": [
              "   UserId  SessionId  ArticleId_served\n",
              "0       1          1              2737\n",
              "1       1          1              1470\n",
              "2       1          1               880\n",
              "3       1          1              1315\n",
              "4       1          1              1579\n",
              "5       1          1               704\n",
              "6       1          1                51\n",
              "7       1          1               296\n",
              "8       1          1              1925\n",
              "9       1          1              4498"
            ],
            "text/html": [
              "<div>\n",
              "<style scoped>\n",
              "    .dataframe tbody tr th:only-of-type {\n",
              "        vertical-align: middle;\n",
              "    }\n",
              "\n",
              "    .dataframe tbody tr th {\n",
              "        vertical-align: top;\n",
              "    }\n",
              "\n",
              "    .dataframe thead th {\n",
              "        text-align: right;\n",
              "    }\n",
              "</style>\n",
              "<table border=\"1\" class=\"dataframe\">\n",
              "  <thead>\n",
              "    <tr style=\"text-align: right;\">\n",
              "      <th></th>\n",
              "      <th>UserId</th>\n",
              "      <th>SessionId</th>\n",
              "      <th>ArticleId_served</th>\n",
              "    </tr>\n",
              "  </thead>\n",
              "  <tbody>\n",
              "    <tr>\n",
              "      <th>0</th>\n",
              "      <td>1</td>\n",
              "      <td>1</td>\n",
              "      <td>2737</td>\n",
              "    </tr>\n",
              "    <tr>\n",
              "      <th>1</th>\n",
              "      <td>1</td>\n",
              "      <td>1</td>\n",
              "      <td>1470</td>\n",
              "    </tr>\n",
              "    <tr>\n",
              "      <th>2</th>\n",
              "      <td>1</td>\n",
              "      <td>1</td>\n",
              "      <td>880</td>\n",
              "    </tr>\n",
              "    <tr>\n",
              "      <th>3</th>\n",
              "      <td>1</td>\n",
              "      <td>1</td>\n",
              "      <td>1315</td>\n",
              "    </tr>\n",
              "    <tr>\n",
              "      <th>4</th>\n",
              "      <td>1</td>\n",
              "      <td>1</td>\n",
              "      <td>1579</td>\n",
              "    </tr>\n",
              "    <tr>\n",
              "      <th>5</th>\n",
              "      <td>1</td>\n",
              "      <td>1</td>\n",
              "      <td>704</td>\n",
              "    </tr>\n",
              "    <tr>\n",
              "      <th>6</th>\n",
              "      <td>1</td>\n",
              "      <td>1</td>\n",
              "      <td>51</td>\n",
              "    </tr>\n",
              "    <tr>\n",
              "      <th>7</th>\n",
              "      <td>1</td>\n",
              "      <td>1</td>\n",
              "      <td>296</td>\n",
              "    </tr>\n",
              "    <tr>\n",
              "      <th>8</th>\n",
              "      <td>1</td>\n",
              "      <td>1</td>\n",
              "      <td>1925</td>\n",
              "    </tr>\n",
              "    <tr>\n",
              "      <th>9</th>\n",
              "      <td>1</td>\n",
              "      <td>1</td>\n",
              "      <td>4498</td>\n",
              "    </tr>\n",
              "  </tbody>\n",
              "</table>\n",
              "</div>"
            ]
          },
          "metadata": {
            "tags": []
          },
          "execution_count": 33
        }
      ]
    },
    {
      "cell_type": "code",
      "metadata": {
        "id": "qRI-shaTKukq",
        "colab_type": "code",
        "outputId": "5d4b4e8e-6e93-4eef-b314-344da756bbb3",
        "colab": {
          "base_uri": "https://localhost:8080/",
          "height": 34
        }
      },
      "source": [
        "len(df)"
      ],
      "execution_count": 0,
      "outputs": [
        {
          "output_type": "execute_result",
          "data": {
            "text/plain": [
              "133180"
            ]
          },
          "metadata": {
            "tags": []
          },
          "execution_count": 67
        }
      ]
    },
    {
      "cell_type": "code",
      "metadata": {
        "id": "x95FdHUQRFoH",
        "colab_type": "code",
        "outputId": "aa856986-7b09-4f2d-d840-8ce417759564",
        "colab": {
          "base_uri": "https://localhost:8080/",
          "height": 34
        }
      },
      "source": [
        "df1=df.copy()\n",
        "groups1=df1.groupby(['UserId'])\n",
        "groups1.get_group(1).ArticleId_served.to_list()"
      ],
      "execution_count": 0,
      "outputs": [
        {
          "output_type": "execute_result",
          "data": {
            "text/plain": [
              "[2737, 1470, 880, 1315, 1579, 704, 51, 296, 1925, 4498]"
            ]
          },
          "metadata": {
            "tags": []
          },
          "execution_count": 34
        }
      ]
    },
    {
      "cell_type": "code",
      "metadata": {
        "id": "O3dw1GflS3_q",
        "colab_type": "code",
        "colab": {}
      },
      "source": [
        "df1.UserId.unique()\n",
        "user_table={}\n",
        "for  i  in range(1,len(df1.UserId.unique())+1):\n",
        "  user_table[i]=groups1.get_group(i).ArticleId_served.to_list()"
      ],
      "execution_count": 0,
      "outputs": []
    },
    {
      "cell_type": "code",
      "metadata": {
        "id": "KpzCD9FeT_bz",
        "colab_type": "code",
        "outputId": "c5f089f3-59af-4912-bae8-b4504e868f7c",
        "colab": {
          "base_uri": "https://localhost:8080/",
          "height": 34
        }
      },
      "source": [
        "s = (3999,4830)\n",
        "\n",
        "zero_user_table=np.zeros(s)\n",
        "zero_user_table.shape"
      ],
      "execution_count": 0,
      "outputs": [
        {
          "output_type": "execute_result",
          "data": {
            "text/plain": [
              "(3999, 4830)"
            ]
          },
          "metadata": {
            "tags": []
          },
          "execution_count": 36
        }
      ]
    },
    {
      "cell_type": "code",
      "metadata": {
        "id": "r_GVBEDpSmmW",
        "colab_type": "code",
        "colab": {}
      },
      "source": [
        "for i in  range(1,3999):\n",
        "  ls=user_table[i]\n",
        "  for j  in  ls:\n",
        "    zero_user_table[i][j]=1"
      ],
      "execution_count": 0,
      "outputs": []
    },
    {
      "cell_type": "code",
      "metadata": {
        "id": "tpEmcmCouXIs",
        "colab_type": "code",
        "outputId": "b0e28bd6-09b2-4216-b56d-c2f4cab6fd1c",
        "colab": {
          "base_uri": "https://localhost:8080/",
          "height": 34
        }
      },
      "source": [
        "zero_user_table[1]"
      ],
      "execution_count": 0,
      "outputs": [
        {
          "output_type": "execute_result",
          "data": {
            "text/plain": [
              "array([0., 0., 0., ..., 0., 0., 0.])"
            ]
          },
          "metadata": {
            "tags": []
          },
          "execution_count": 38
        }
      ]
    },
    {
      "cell_type": "code",
      "metadata": {
        "id": "uUYvHVB6tlHv",
        "colab_type": "code",
        "colab": {}
      },
      "source": [
        "np.save('user-item-table',zero_user_table)"
      ],
      "execution_count": 0,
      "outputs": []
    },
    {
      "cell_type": "markdown",
      "metadata": {
        "id": "4MDPSxgOKukw",
        "colab_type": "text"
      },
      "source": [
        "## Now, lets model number of clicks per session"
      ]
    },
    {
      "cell_type": "markdown",
      "metadata": {
        "id": "c5Vn4PMntvIg",
        "colab_type": "text"
      },
      "source": [
        "We  are  assuming no session is diffrent from other seesion\n",
        "May be in a peak session or at some time of breaking news more people come to website.\n",
        "But due to assumption of poisson distribution we did that\n",
        "\n"
      ]
    },
    {
      "cell_type": "code",
      "metadata": {
        "id": "xmTzhdtKKukx",
        "colab_type": "code",
        "outputId": "b97ddc4c-a83b-4d50-dd23-55f9f352876e",
        "colab": {
          "base_uri": "https://localhost:8080/",
          "height": 67
        }
      },
      "source": [
        "from scipy import stats\n",
        "\n",
        "random.seed(12)\n",
        "\n",
        "clicks_per_session = stats.poisson.rvs(size=len(df)/10,  # Generate Poisson data\n",
        "                                   mu=1 , loc = 1 )       # Average clicks per session = 1\n",
        "\n",
        "# divided by  10 \n",
        "\n",
        "# Print table of counts\n",
        "print( pd.crosstab(index=\"counts\", columns= clicks_per_session)) # to see  the frequency  of clicks in a session\n"
      ],
      "execution_count": 0,
      "outputs": [
        {
          "output_type": "stream",
          "text": [
            "col_0      1     2     3    4    5   6   7  8\n",
            "row_0                                        \n",
            "counts  5008  5065  2476  820  189  44  13  1\n"
          ],
          "name": "stdout"
        }
      ]
    },
    {
      "cell_type": "code",
      "metadata": {
        "id": "zROtJj4tsHvf",
        "colab_type": "code",
        "outputId": "9666a45a-13b4-4b77-b30b-1b0f35bed75c",
        "colab": {
          "base_uri": "https://localhost:8080/",
          "height": 34
        }
      },
      "source": [
        "len(clicks_per_session)"
      ],
      "execution_count": 0,
      "outputs": [
        {
          "output_type": "execute_result",
          "data": {
            "text/plain": [
              "13616"
            ]
          },
          "metadata": {
            "tags": []
          },
          "execution_count": 71
        }
      ]
    },
    {
      "cell_type": "code",
      "metadata": {
        "id": "MyO_sBaNKuk1",
        "colab_type": "code",
        "outputId": "8b162c93-fff2-4fc8-f17f-6fdf73ed4aa5",
        "colab": {
          "base_uri": "https://localhost:8080/",
          "height": 34
        }
      },
      "source": [
        "clicks_per_session,len(clicks_per_session)"
      ],
      "execution_count": 0,
      "outputs": [
        {
          "output_type": "execute_result",
          "data": {
            "text/plain": [
              "(array([2, 1, 1, ..., 2, 1, 1]), 13616)"
            ]
          },
          "metadata": {
            "tags": []
          },
          "execution_count": 72
        }
      ]
    },
    {
      "cell_type": "code",
      "metadata": {
        "id": "pMEYK4N4Kuk6",
        "colab_type": "code",
        "colab": {}
      },
      "source": [
        "\n",
        "def click_checker():\n",
        "  clicked_or_not = []\n",
        "  random.seed(12)\n",
        "  for clicks in clicks_per_session:\n",
        "      \n",
        "      session_list = [0 for i in range(10-clicks)] \n",
        "      #for ex if there are 3 clicks in a session we will insert 10-3=7. Seven zeros that means\n",
        "      # any 7 items were not clicked\n",
        "      \n",
        "      for i in range(clicks):\n",
        "          \n",
        "          session_list.append(1) # append ones for no of clicks per session\n",
        "          \n",
        "      random.shuffle(session_list) #user can click any item from 10 articles shown to it\n",
        "      clicked_or_not.append(session_list)\n",
        "  return clicked_or_not\n",
        "clicked_or_not=click_checker()\n",
        "  "
      ],
      "execution_count": 0,
      "outputs": []
    },
    {
      "cell_type": "code",
      "metadata": {
        "id": "k96iVoQSv5fc",
        "colab_type": "code",
        "outputId": "f9b0d27a-0d38-4a63-c2ed-864f9da06e07",
        "colab": {
          "base_uri": "https://localhost:8080/",
          "height": 34
        }
      },
      "source": [
        "clicked_or_not[0]"
      ],
      "execution_count": 0,
      "outputs": [
        {
          "output_type": "execute_result",
          "data": {
            "text/plain": [
              "[0, 0, 0, 1, 0, 0, 0, 1, 0, 0]"
            ]
          },
          "metadata": {
            "tags": []
          },
          "execution_count": 74
        }
      ]
    },
    {
      "cell_type": "code",
      "metadata": {
        "id": "c-sY9-1cKuk_",
        "colab_type": "code",
        "outputId": "9b43d729-0508-488d-f473-280019fae526",
        "colab": {
          "base_uri": "https://localhost:8080/",
          "height": 34
        }
      },
      "source": [
        "len(clicked_or_not)  "
      ],
      "execution_count": 0,
      "outputs": [
        {
          "output_type": "execute_result",
          "data": {
            "text/plain": [
              "13616"
            ]
          },
          "metadata": {
            "tags": []
          },
          "execution_count": 61
        }
      ]
    },
    {
      "cell_type": "code",
      "metadata": {
        "id": "WaCdjGN0KulD",
        "colab_type": "code",
        "outputId": "0b664a7d-6524-423b-a484-12168e715037",
        "colab": {
          "base_uri": "https://localhost:8080/",
          "height": 34
        }
      },
      "source": [
        "click = np.array(clicked_or_not).flatten()\n",
        "click.shape,click.sum()                  #Converted into a binary array depicting clicks and No-click"
      ],
      "execution_count": 0,
      "outputs": [
        {
          "output_type": "execute_result",
          "data": {
            "text/plain": [
              "((136160,), 27154)"
            ]
          },
          "metadata": {
            "tags": []
          },
          "execution_count": 75
        }
      ]
    },
    {
      "cell_type": "code",
      "metadata": {
        "id": "qqsIR91dKulI",
        "colab_type": "code",
        "colab": {}
      },
      "source": [
        "# 27154 total articles clicked "
      ],
      "execution_count": 0,
      "outputs": []
    },
    {
      "cell_type": "code",
      "metadata": {
        "id": "5-HTENGOKulM",
        "colab_type": "code",
        "colab": {}
      },
      "source": [
        "df['Click'] = click"
      ],
      "execution_count": 0,
      "outputs": []
    },
    {
      "cell_type": "code",
      "metadata": {
        "id": "VBncOTUsKulS",
        "colab_type": "code",
        "outputId": "592a94e0-961d-42fd-babb-cffdadaacc4f",
        "colab": {
          "base_uri": "https://localhost:8080/",
          "height": 343
        }
      },
      "source": [
        "df.head(10)"
      ],
      "execution_count": 0,
      "outputs": [
        {
          "output_type": "execute_result",
          "data": {
            "text/plain": [
              "   UserId  SessionId  ArticleId_served  Click\n",
              "0       1          1              2737      0\n",
              "1       1          1              1470      0\n",
              "2       1          1               880      0\n",
              "3       1          1              1315      1\n",
              "4       1          1              1579      0\n",
              "5       1          1               704      0\n",
              "6       1          1                51      0\n",
              "7       1          1               296      1\n",
              "8       1          1              1925      0\n",
              "9       1          1              4498      0"
            ],
            "text/html": [
              "<div>\n",
              "<style scoped>\n",
              "    .dataframe tbody tr th:only-of-type {\n",
              "        vertical-align: middle;\n",
              "    }\n",
              "\n",
              "    .dataframe tbody tr th {\n",
              "        vertical-align: top;\n",
              "    }\n",
              "\n",
              "    .dataframe thead th {\n",
              "        text-align: right;\n",
              "    }\n",
              "</style>\n",
              "<table border=\"1\" class=\"dataframe\">\n",
              "  <thead>\n",
              "    <tr style=\"text-align: right;\">\n",
              "      <th></th>\n",
              "      <th>UserId</th>\n",
              "      <th>SessionId</th>\n",
              "      <th>ArticleId_served</th>\n",
              "      <th>Click</th>\n",
              "    </tr>\n",
              "  </thead>\n",
              "  <tbody>\n",
              "    <tr>\n",
              "      <th>0</th>\n",
              "      <td>1</td>\n",
              "      <td>1</td>\n",
              "      <td>2737</td>\n",
              "      <td>0</td>\n",
              "    </tr>\n",
              "    <tr>\n",
              "      <th>1</th>\n",
              "      <td>1</td>\n",
              "      <td>1</td>\n",
              "      <td>1470</td>\n",
              "      <td>0</td>\n",
              "    </tr>\n",
              "    <tr>\n",
              "      <th>2</th>\n",
              "      <td>1</td>\n",
              "      <td>1</td>\n",
              "      <td>880</td>\n",
              "      <td>0</td>\n",
              "    </tr>\n",
              "    <tr>\n",
              "      <th>3</th>\n",
              "      <td>1</td>\n",
              "      <td>1</td>\n",
              "      <td>1315</td>\n",
              "      <td>1</td>\n",
              "    </tr>\n",
              "    <tr>\n",
              "      <th>4</th>\n",
              "      <td>1</td>\n",
              "      <td>1</td>\n",
              "      <td>1579</td>\n",
              "      <td>0</td>\n",
              "    </tr>\n",
              "    <tr>\n",
              "      <th>5</th>\n",
              "      <td>1</td>\n",
              "      <td>1</td>\n",
              "      <td>704</td>\n",
              "      <td>0</td>\n",
              "    </tr>\n",
              "    <tr>\n",
              "      <th>6</th>\n",
              "      <td>1</td>\n",
              "      <td>1</td>\n",
              "      <td>51</td>\n",
              "      <td>0</td>\n",
              "    </tr>\n",
              "    <tr>\n",
              "      <th>7</th>\n",
              "      <td>1</td>\n",
              "      <td>1</td>\n",
              "      <td>296</td>\n",
              "      <td>1</td>\n",
              "    </tr>\n",
              "    <tr>\n",
              "      <th>8</th>\n",
              "      <td>1</td>\n",
              "      <td>1</td>\n",
              "      <td>1925</td>\n",
              "      <td>0</td>\n",
              "    </tr>\n",
              "    <tr>\n",
              "      <th>9</th>\n",
              "      <td>1</td>\n",
              "      <td>1</td>\n",
              "      <td>4498</td>\n",
              "      <td>0</td>\n",
              "    </tr>\n",
              "  </tbody>\n",
              "</table>\n",
              "</div>"
            ]
          },
          "metadata": {
            "tags": []
          },
          "execution_count": 65
        }
      ]
    },
    {
      "cell_type": "code",
      "metadata": {
        "id": "INL17l5GKulW",
        "colab_type": "code",
        "colab": {}
      },
      "source": [
        "from scipy.stats import chi\n",
        "from scipy.stats import norm\n",
        "import scipy\n",
        "mycomps = (chi(2,3,8),norm(30, 9),norm(60,9),norm(90,8))\n",
        "priors = [0.35,0.25,0.25,0.15]"
      ],
      "execution_count": 0,
      "outputs": []
    },
    {
      "cell_type": "code",
      "metadata": {
        "id": "GYJ1gXEeJX61",
        "colab_type": "code",
        "outputId": "f99e6ed4-a1d1-44bb-fd8f-dfb906502942",
        "colab": {
          "base_uri": "https://localhost:8080/",
          "height": 34
        }
      },
      "source": [
        "print(mycomps[0])"
      ],
      "execution_count": 0,
      "outputs": [
        {
          "output_type": "stream",
          "text": [
            "<scipy.stats._distn_infrastructure.rv_frozen object at 0x7f450caf9910>\n"
          ],
          "name": "stdout"
        }
      ]
    },
    {
      "cell_type": "code",
      "metadata": {
        "id": "CgwEicRdKulc",
        "colab_type": "code",
        "colab": {}
      },
      "source": [
        "def myMixture(x,priors,myComponents):\n",
        "    s = 0\n",
        "    for comp,prior in zip(myComponents,priors):\n",
        "        s += comp.pdf(x)*prior\n",
        "    return s"
      ],
      "execution_count": 0,
      "outputs": []
    },
    {
      "cell_type": "code",
      "metadata": {
        "id": "c4nLVtq6Kuli",
        "colab_type": "code",
        "colab": {}
      },
      "source": [
        "import numpy as np\n",
        "x_data = np.linspace(0.0,100,1000)   #Generates 1000 numbers between 0 and 100\n",
        "#using uniform distribution\n"
      ],
      "execution_count": 0,
      "outputs": []
    },
    {
      "cell_type": "code",
      "metadata": {
        "id": "Q438FamQKulm",
        "colab_type": "code",
        "outputId": "7af573b8-5142-4959-f27e-e5395ec944cd",
        "colab": {
          "base_uri": "https://localhost:8080/",
          "height": 50
        }
      },
      "source": [
        "y_data = myMixture(x_data,priors,mycomps)\n",
        "y_data[:5]"
      ],
      "execution_count": 0,
      "outputs": [
        {
          "output_type": "execute_result",
          "data": {
            "text/plain": [
              "array([4.28410857e-05, 4.44564407e-05, 4.61269975e-05, 4.78544092e-05,\n",
              "       4.96403698e-05])"
            ]
          },
          "metadata": {
            "tags": []
          },
          "execution_count": 83
        }
      ]
    },
    {
      "cell_type": "code",
      "metadata": {
        "id": "GXNZTsm6Kulv",
        "colab_type": "code",
        "outputId": "ee84efcd-2428-4ab7-b12a-e588d9ac2ae9",
        "colab": {
          "base_uri": "https://localhost:8080/",
          "height": 286
        }
      },
      "source": [
        "import matplotlib.pyplot as plt\n",
        "%matplotlib inline\n",
        "plt.scatter(x_data,y_data)"
      ],
      "execution_count": 0,
      "outputs": [
        {
          "output_type": "execute_result",
          "data": {
            "text/plain": [
              "<matplotlib.collections.PathCollection at 0x7f450c850a90>"
            ]
          },
          "metadata": {
            "tags": []
          },
          "execution_count": 84
        },
        {
          "output_type": "display_data",
          "data": {
            "image/png": "[encoded data removed]",
            "text/plain": [
              "<Figure size 432x288 with 1 Axes>"
            ]
          },
          "metadata": {
            "tags": [],
            "needs_background": "light"
          }
        }
      ]
    },
    {
      "cell_type": "code",
      "metadata": {
        "id": "c46zMGF9Kul1",
        "colab_type": "code",
        "colab": {}
      },
      "source": [
        "def genSample(sample_size,priors,myComponents):\n",
        "    myData = np.empty( shape=(0) )\n",
        "    for comp,prior in zip(myComponents,priors):\n",
        "        new_data = comp.rvs(int(sample_size*prior))\n",
        "        myData = np.append(myData,new_data)\n",
        "    return myData"
      ],
      "execution_count": 0,
      "outputs": []
    },
    {
      "cell_type": "code",
      "metadata": {
        "id": "0AytkHh-Kul8",
        "colab_type": "code",
        "outputId": "21a7e2e9-2d4b-4e2d-9a64-3dfb5af6b845",
        "colab": {
          "base_uri": "https://localhost:8080/",
          "height": 34
        }
      },
      "source": [
        "data = genSample(27154,priors,mycomps)\n",
        "\n",
        "len(data)"
      ],
      "execution_count": 0,
      "outputs": [
        {
          "output_type": "execute_result",
          "data": {
            "text/plain": [
              "27152"
            ]
          },
          "metadata": {
            "tags": []
          },
          "execution_count": 86
        }
      ]
    },
    {
      "cell_type": "code",
      "metadata": {
        "id": "ggoXpLotKumB",
        "colab_type": "code",
        "outputId": "865db91c-0814-43cf-aa7c-e13a43c9189f",
        "colab": {
          "base_uri": "https://localhost:8080/",
          "height": 50
        }
      },
      "source": [
        "print data[:10],data.min(),data.max()\n",
        "\n",
        "for i in range(len(data)):\n",
        "    if data[i]<0:\n",
        "        data[i] *= -1\n",
        "\n"
      ],
      "execution_count": 0,
      "outputs": [
        {
          "output_type": "stream",
          "text": [
            "[ 5.68328183 15.73172558  7.67253931  7.52157034 15.94147969 11.15735746\n",
            " 12.54067952  4.87644597 14.86219191 18.18103326] -6.85053993268717 117.21392851828335\n"
          ],
          "name": "stdout"
        }
      ]
    },
    {
      "cell_type": "code",
      "metadata": {
        "id": "5VMbKf5UKumF",
        "colab_type": "code",
        "outputId": "7fb61455-a47a-49c6-da76-9f08a6b37ecc",
        "colab": {
          "base_uri": "https://localhost:8080/",
          "height": 50
        }
      },
      "source": [
        "print(min(data),len(data))\n",
        "data = np.append(data,[10])\n",
        "len(data)"
      ],
      "execution_count": 0,
      "outputs": [
        {
          "output_type": "stream",
          "text": [
            "(0.10981630178291368, 27152)\n"
          ],
          "name": "stdout"
        },
        {
          "output_type": "execute_result",
          "data": {
            "text/plain": [
              "27153"
            ]
          },
          "metadata": {
            "tags": []
          },
          "execution_count": 88
        }
      ]
    },
    {
      "cell_type": "code",
      "metadata": {
        "id": "uqG3tCG6KumI",
        "colab_type": "code",
        "colab": {}
      },
      "source": [
        "final_time = click\n",
        "\n",
        "j=0\n",
        "for i in range(len(click)):\n",
        "    \n",
        "    if click[i] == 1:\n",
        "        final_time[i] = data[j]\n",
        "        j +=1\n",
        "        "
      ],
      "execution_count": 0,
      "outputs": []
    },
    {
      "cell_type": "code",
      "metadata": {
        "id": "gMRY1PLSKumM",
        "colab_type": "code",
        "outputId": "e90ba179-f12c-45dc-f1a1-17962bb1937d",
        "colab": {}
      },
      "source": [
        "len(final_time),final_time[:100]"
      ],
      "execution_count": 0,
      "outputs": [
        {
          "output_type": "execute_result",
          "data": {
            "text/plain": [
              "(80060,\n",
              " array([ 0,  0,  0, 16,  0,  0,  0,  0,  0,  0,  0, 30,  0,  0,  0,  0,  0,\n",
              "         8,  0,  0,  0,  0, 13,  0, 14,  0,  0,  0,  0,  0,  0,  0,  0,  0,\n",
              "         0,  0,  9,  0,  7,  0,  0, 10,  6,  0,  7,  0,  0,  0,  0,  0, 14,\n",
              "         0,  0,  0,  0,  0,  6, 19,  7,  0, 24,  9,  0,  0, 12,  0,  0, 12,\n",
              "         0,  0,  0,  0, 13,  0,  0,  0,  0,  0,  0,  0,  0,  0,  0,  0,  0,\n",
              "         7,  0,  0,  0,  0,  0,  0,  0,  0,  0,  0,  0,  0,  0, 14]))"
            ]
          },
          "metadata": {
            "tags": []
          },
          "execution_count": 420
        }
      ]
    },
    {
      "cell_type": "code",
      "metadata": {
        "id": "vOzftT78KumP",
        "colab_type": "code",
        "outputId": "8b31e2b6-2c95-45eb-90a1-fd592d5c1449",
        "colab": {}
      },
      "source": [
        "df['Percentage Time Spent'] = final_time\n",
        "\n",
        "df.head(10)"
      ],
      "execution_count": 0,
      "outputs": [
        {
          "output_type": "execute_result",
          "data": {
            "text/html": [
              "<div>\n",
              "<table border=\"1\" class=\"dataframe\">\n",
              "  <thead>\n",
              "    <tr style=\"text-align: right;\">\n",
              "      <th></th>\n",
              "      <th>UserId</th>\n",
              "      <th>SessionId</th>\n",
              "      <th>ArticleId_served</th>\n",
              "      <th>Click</th>\n",
              "      <th>Percentage Time Spent</th>\n",
              "    </tr>\n",
              "  </thead>\n",
              "  <tbody>\n",
              "    <tr>\n",
              "      <th>0</th>\n",
              "      <td>1</td>\n",
              "      <td>1</td>\n",
              "      <td>2034</td>\n",
              "      <td>0</td>\n",
              "      <td>0</td>\n",
              "    </tr>\n",
              "    <tr>\n",
              "      <th>1</th>\n",
              "      <td>1</td>\n",
              "      <td>1</td>\n",
              "      <td>2091</td>\n",
              "      <td>0</td>\n",
              "      <td>0</td>\n",
              "    </tr>\n",
              "    <tr>\n",
              "      <th>2</th>\n",
              "      <td>1</td>\n",
              "      <td>1</td>\n",
              "      <td>3375</td>\n",
              "      <td>0</td>\n",
              "      <td>0</td>\n",
              "    </tr>\n",
              "    <tr>\n",
              "      <th>3</th>\n",
              "      <td>1</td>\n",
              "      <td>1</td>\n",
              "      <td>1623</td>\n",
              "      <td>1</td>\n",
              "      <td>16</td>\n",
              "    </tr>\n",
              "    <tr>\n",
              "      <th>4</th>\n",
              "      <td>1</td>\n",
              "      <td>1</td>\n",
              "      <td>1711</td>\n",
              "      <td>0</td>\n",
              "      <td>0</td>\n",
              "    </tr>\n",
              "    <tr>\n",
              "      <th>5</th>\n",
              "      <td>1</td>\n",
              "      <td>1</td>\n",
              "      <td>3178</td>\n",
              "      <td>0</td>\n",
              "      <td>0</td>\n",
              "    </tr>\n",
              "    <tr>\n",
              "      <th>6</th>\n",
              "      <td>1</td>\n",
              "      <td>1</td>\n",
              "      <td>3661</td>\n",
              "      <td>0</td>\n",
              "      <td>0</td>\n",
              "    </tr>\n",
              "    <tr>\n",
              "      <th>7</th>\n",
              "      <td>1</td>\n",
              "      <td>1</td>\n",
              "      <td>3676</td>\n",
              "      <td>0</td>\n",
              "      <td>0</td>\n",
              "    </tr>\n",
              "    <tr>\n",
              "      <th>8</th>\n",
              "      <td>1</td>\n",
              "      <td>1</td>\n",
              "      <td>589</td>\n",
              "      <td>0</td>\n",
              "      <td>0</td>\n",
              "    </tr>\n",
              "    <tr>\n",
              "      <th>9</th>\n",
              "      <td>1</td>\n",
              "      <td>1</td>\n",
              "      <td>3310</td>\n",
              "      <td>0</td>\n",
              "      <td>0</td>\n",
              "    </tr>\n",
              "  </tbody>\n",
              "</table>\n",
              "</div>"
            ],
            "text/plain": [
              "   UserId  SessionId  ArticleId_served  Click  Percentage Time Spent\n",
              "0       1          1              2034      0                      0\n",
              "1       1          1              2091      0                      0\n",
              "2       1          1              3375      0                      0\n",
              "3       1          1              1623      1                     16\n",
              "4       1          1              1711      0                      0\n",
              "5       1          1              3178      0                      0\n",
              "6       1          1              3661      0                      0\n",
              "7       1          1              3676      0                      0\n",
              "8       1          1               589      0                      0\n",
              "9       1          1              3310      0                      0"
            ]
          },
          "metadata": {
            "tags": []
          },
          "execution_count": 432
        }
      ]
    },
    {
      "cell_type": "code",
      "metadata": {
        "id": "Cll_vbMEKumT",
        "colab_type": "code",
        "colab": {}
      },
      "source": [
        "df.to_csv(\"Generated_Click_Stream_Data.csv\")"
      ],
      "execution_count": 0,
      "outputs": []
    }
  ]
}