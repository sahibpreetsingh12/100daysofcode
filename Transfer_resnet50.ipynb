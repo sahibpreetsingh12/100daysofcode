{
  "nbformat": 4,
  "nbformat_minor": 0,
  "metadata": {
    "colab": {
      "name": "Transfer_resnet50.ipynb",
      "provenance": [],
      "toc_visible": true,
      "authorship_tag": "ABX9TyPpzSgi5dwkqKHuc90Jiy3q",
      "include_colab_link": true
    },
    "kernelspec": {
      "name": "python3",
      "display_name": "Python 3"
    },
    "accelerator": "GPU"
  },
  "cells": [
    {
      "cell_type": "markdown",
      "metadata": {
        "id": "view-in-github",
        "colab_type": "text"
      },
      "source": [
        "<a href=\"https://colab.research.google.com/github/sahibpreetsingh12/100daysofcode/blob/master/Transfer_resnet50.ipynb\" target=\"_parent\"><img src=\"https://colab.research.google.com/assets/colab-badge.svg\" alt=\"Open In Colab\"/></a>"
      ]
    },
    {
      "cell_type": "code",
      "metadata": {
        "id": "cguGyfzLfx0w",
        "colab_type": "code",
        "outputId": "03a5edb6-5c1d-4ae4-d907-8274e663b0e2",
        "colab": {
          "base_uri": "https://localhost:8080/",
          "height": 161
        }
      },
      "source": [
        "import glob\n",
        "import numpy as np\n",
        "import pandas as pd\n",
        "import os\n",
        "import shutil \n",
        "import matplotlib.pyplot as plt\n",
        "import tensorflow.compat.v1 as tf\n",
        "tf.disable_v2_behavior()\n",
        "from keras.preprocessing.image import ImageDataGenerator, load_img, img_to_array, array_to_img\n",
        "%matplotlib inline"
      ],
      "execution_count": 1,
      "outputs": [
        {
          "output_type": "display_data",
          "data": {
            "text/html": [
              "<p style=\"color: red;\">\n",
              "The default version of TensorFlow in Colab will soon switch to TensorFlow 2.x.<br>\n",
              "We recommend you <a href=\"https://www.tensorflow.org/guide/migrate\" target=\"_blank\">upgrade</a> now \n",
              "or ensure your notebook will continue to use TensorFlow 1.x via the <code>%tensorflow_version 1.x</code> magic:\n",
              "<a href=\"https://colab.research.google.com/notebooks/tensorflow_version.ipynb\" target=\"_blank\">more info</a>.</p>\n"
            ],
            "text/plain": [
              "<IPython.core.display.HTML object>"
            ]
          },
          "metadata": {
            "tags": []
          }
        },
        {
          "output_type": "stream",
          "text": [
            "WARNING:tensorflow:From /usr/local/lib/python3.6/dist-packages/tensorflow_core/python/compat/v2_compat.py:68: disable_resource_variables (from tensorflow.python.ops.variable_scope) is deprecated and will be removed in a future version.\n",
            "Instructions for updating:\n",
            "non-resource variables are not supported in the long term\n"
          ],
          "name": "stdout"
        },
        {
          "output_type": "stream",
          "text": [
            "Using TensorFlow backend.\n"
          ],
          "name": "stderr"
        }
      ]
    },
    {
      "cell_type": "code",
      "metadata": {
        "id": "s8PJw_A7CTGH",
        "colab_type": "code",
        "colab": {}
      },
      "source": [
        "# # Load the Drive helper and mount\n",
        "# from google.colab import drive\n",
        "# drive.mount('/content/drive')\n",
        "os.chdir(r\"/content/drive/My Drive\") \n"
      ],
      "execution_count": 0,
      "outputs": []
    },
    {
      "cell_type": "code",
      "metadata": {
        "id": "juTv6zbMDYdJ",
        "colab_type": "code",
        "colab": {}
      },
      "source": [
        "!tar -xf Data.tar.gz"
      ],
      "execution_count": 0,
      "outputs": []
    },
    {
      "cell_type": "code",
      "metadata": {
        "id": "zO7gUy1eFAQQ",
        "colab_type": "code",
        "colab": {
          "base_uri": "https://localhost:8080/",
          "height": 36
        },
        "outputId": "2c019dc7-4451-4f66-ad10-af3b255040a2"
      },
      "source": [
        "# os.chdir(r\"Data\")\n",
        "os.getcwd()"
      ],
      "execution_count": 9,
      "outputs": [
        {
          "output_type": "execute_result",
          "data": {
            "text/plain": [
              "'/content/drive/My Drive/Data'"
            ]
          },
          "metadata": {
            "tags": []
          },
          "execution_count": 9
        }
      ]
    },
    {
      "cell_type": "code",
      "metadata": {
        "id": "hWXAdU-7FR3k",
        "colab_type": "code",
        "colab": {
          "base_uri": "https://localhost:8080/",
          "height": 254
        },
        "outputId": "81c496f9-3e7a-49a1-ca20-7eddfee8885a"
      },
      "source": [
        "nsfw_files='/content/drive/My Drive/Data/nsfw/'\n",
        "sfw_files='/content/drive/My Drive/Data/sfw/'\n",
        "\n",
        "path_nsfw, dirs, nsfw_file_ = next(os.walk(\"/content/drive/My Drive/Data/nsfw/\"))\n",
        "\n",
        "print(path_nsfw,dirs,nsfw_file_)\n",
        "\n",
        "\n",
        "path_sfw, dirs, sfw_file_ = next(os.walk(\"/content/drive/My Drive/Data/sfw/\"))\n",
        "\n",
        "print(path_sfw,dirs,sfw_file_)\n"
      ],
      "execution_count": 1,
      "outputs": [
        {
          "output_type": "error",
          "ename": "NameError",
          "evalue": "ignored",
          "traceback": [
            "\u001b[0;31m---------------------------------------------------------------------------\u001b[0m",
            "\u001b[0;31mNameError\u001b[0m                                 Traceback (most recent call last)",
            "\u001b[0;32m<ipython-input-1-3ec51abe5b96>\u001b[0m in \u001b[0;36m<module>\u001b[0;34m()\u001b[0m\n\u001b[1;32m      2\u001b[0m \u001b[0msfw_files\u001b[0m\u001b[0;34m=\u001b[0m\u001b[0;34m'/content/drive/My Drive/Data/sfw/'\u001b[0m\u001b[0;34m\u001b[0m\u001b[0;34m\u001b[0m\u001b[0m\n\u001b[1;32m      3\u001b[0m \u001b[0;34m\u001b[0m\u001b[0m\n\u001b[0;32m----> 4\u001b[0;31m \u001b[0mpath_nsfw\u001b[0m\u001b[0;34m,\u001b[0m \u001b[0mdirs\u001b[0m\u001b[0;34m,\u001b[0m \u001b[0mnsfw_file_\u001b[0m \u001b[0;34m=\u001b[0m \u001b[0mnext\u001b[0m\u001b[0;34m(\u001b[0m\u001b[0mos\u001b[0m\u001b[0;34m.\u001b[0m\u001b[0mwalk\u001b[0m\u001b[0;34m(\u001b[0m\u001b[0;34m\"/content/drive/My Drive/Data/nsfw/\"\u001b[0m\u001b[0;34m)\u001b[0m\u001b[0;34m)\u001b[0m\u001b[0;34m\u001b[0m\u001b[0;34m\u001b[0m\u001b[0m\n\u001b[0m\u001b[1;32m      5\u001b[0m \u001b[0;34m\u001b[0m\u001b[0m\n\u001b[1;32m      6\u001b[0m \u001b[0mprint\u001b[0m\u001b[0;34m(\u001b[0m\u001b[0mpath_nsfw\u001b[0m\u001b[0;34m,\u001b[0m\u001b[0mdirs\u001b[0m\u001b[0;34m,\u001b[0m\u001b[0mnsfw_file_\u001b[0m\u001b[0;34m)\u001b[0m\u001b[0;34m\u001b[0m\u001b[0;34m\u001b[0m\u001b[0m\n",
            "\u001b[0;31mNameError\u001b[0m: name 'os' is not defined"
          ]
        }
      ]
    },
    {
      "cell_type": "code",
      "metadata": {
        "id": "1nD3NXVMJwY7",
        "colab_type": "code",
        "colab": {}
      },
      "source": [
        "IMG_WIDTH=300\n",
        "IMG_HEIGHT=300\n",
        "IMG_DIM = (IMG_WIDTH, IMG_HEIGHT)\n",
        "# train_files = \n",
        "# train_imgs = [img_to_array(load_img(img, target_size=IMG_DIM)) for img in train_files]\n",
        "# train_imgs = np.array(train_imgs)\n",
        "# train_labels = [fn.split(‘\\\\’)[-1].split(‘.’)[0].strip() for fn in train_files]\n",
        "train_imgs=[]\n",
        "train_labels=[]\n",
        "for root,dirs,filenames in os.walk('/content/drive/My Drive/Data/nsfw'):\n",
        "  for file_name in filenames:\n",
        "    temp = [img_to_array(load_img('/content/drive/My Drive/Data/nsfw/'+file_name, target_size=IMG_DIM))]\n",
        "    temp = np.array(temp)\n",
        "    train_imgs.append(temp)\n",
        "    train_labels.append('NSFW')\n",
        "\n",
        "for root,dirs,filenames in os.walk('/content/drive/My Drive/Data/sfw'):\n",
        "  for file_name in filenames:\n",
        "    temp = [img_to_array(load_img('/content/drive/My Drive/Data/sfw/'+file_name, target_size=IMG_DIM))]\n",
        "    temp = np.array(temp)\n",
        "    train_imgs.append(temp)\n",
        "    train_labels.append('SFW')\n",
        "\n",
        "\n"
      ],
      "execution_count": 0,
      "outputs": []
    },
    {
      "cell_type": "code",
      "metadata": {
        "id": "W5PpTRwXL4ut",
        "colab_type": "code",
        "colab": {}
      },
      "source": [
        ""
      ],
      "execution_count": 0,
      "outputs": []
    }
  ]
}