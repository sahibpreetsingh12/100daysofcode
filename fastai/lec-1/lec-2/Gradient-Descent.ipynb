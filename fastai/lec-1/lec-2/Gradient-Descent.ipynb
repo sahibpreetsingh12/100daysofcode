{
 "cells": [
  {
   "cell_type": "markdown",
   "metadata": {},
   "source": [
    "# If validation loss is very big means learning rate is very high so we have to decrease it"
   ]
  },
  {
   "cell_type": "markdown",
   "metadata": {},
   "source": [
    "# <font color='red'> If training loss is higher than validation loss it means learning rate is very low </font>"
   ]
  },
  {
   "cell_type": "code",
   "execution_count": 38,
   "metadata": {},
   "outputs": [],
   "source": [
    "learn.recorder.plot_losses() # to plot validation loss and traing loss"
   ]
  },
  {
   "cell_type": "markdown",
   "metadata": {},
   "source": [
    "\n",
    "# Too many epochs means problem of overfitting can occur\n",
    "# And to detect it see if your error rate first decreases and then starts to increase\n",
    "# example your error rate will decrease like :-\n",
    "# 0.654,0.544,0.444 and then again to 0.546,0.656 and so on"
   ]
  },
  {
   "cell_type": "markdown",
   "metadata": {},
   "source": [
    "# <font color='red'>If taining loss is less than Validation loss it never means overfitting it means you are correct</font>"
   ]
  },
  {
   "cell_type": "markdown",
   "metadata": {},
   "source": [
    "# Linear Regression"
   ]
  },
  {
   "cell_type": "code",
   "execution_count": 88,
   "metadata": {},
   "outputs": [],
   "source": [
    "from fastai import *\n"
   ]
  },
  {
   "cell_type": "code",
   "execution_count": 89,
   "metadata": {},
   "outputs": [],
   "source": [
    "from fastai.basics import *\n",
    "a=tensor(3.,2.) # value of our coefficient and intercept of line\n",
    "# which is y=a1x1 + a2x2(x2 is always 1)\n",
    "# but we kept a1,aa2 as 3,2\n",
    "# and now we will find these values using STochastic gradient descent"
   ]
  },
  {
   "cell_type": "code",
   "execution_count": 90,
   "metadata": {},
   "outputs": [
    {
     "name": "stdout",
     "output_type": "stream",
     "text": [
      "tensor([[ 0.0771,  1.0000],\n",
      "        [-0.0026,  1.0000],\n",
      "        [ 0.4093,  1.0000],\n",
      "        [ 0.6759,  1.0000],\n",
      "        [-0.2885,  1.0000]])\n"
     ]
    }
   ],
   "source": [
    "#print(a)\n",
    "n=100\n",
    "x=torch.ones(n,2)# create a n,2 dimensional matrix \n",
    "x[:,0].uniform_(-1.,1.)# In the zeroth column of X for all rows place a random number between \n",
    "# -1 to 1\n",
    "print(x[:5])\n"
   ]
  },
  {
   "cell_type": "code",
   "execution_count": 91,
   "metadata": {},
   "outputs": [
    {
     "name": "stdout",
     "output_type": "stream",
     "text": [
      "tensor([2.8823, 2.6777, 3.6224, 4.1715, 1.4653])\n"
     ]
    }
   ],
   "source": [
    "y=x@a+torch.rand(n)\n",
    "print(y[:5])"
   ]
  },
  {
   "cell_type": "code",
   "execution_count": 92,
   "metadata": {},
   "outputs": [
    {
     "data": {
      "text/plain": [
       "<matplotlib.collections.PathCollection at 0x7fc6ff9fd898>"
      ]
     },
     "execution_count": 92,
     "metadata": {},
     "output_type": "execute_result"
    },
    {
     "data": {
      "image/png": "[encoded data removed]",
      "text/plain": [
       "<Figure size 432x288 with 1 Axes>"
      ]
     },
     "metadata": {
      "needs_background": "light"
     },
     "output_type": "display_data"
    }
   ],
   "source": [
    "plt.scatter(x[:,0],y)"
   ]
  },
  {
   "cell_type": "code",
   "execution_count": 32,
   "metadata": {},
   "outputs": [
    {
     "data": {
      "text/plain": [
       "100"
      ]
     },
     "execution_count": 32,
     "metadata": {},
     "output_type": "execute_result"
    }
   ],
   "source": [
    "len(y)"
   ]
  },
  {
   "cell_type": "code",
   "execution_count": 93,
   "metadata": {},
   "outputs": [
    {
     "data": {
      "text/plain": [
       "<matplotlib.collections.PathCollection at 0x7fc6ff95d828>"
      ]
     },
     "execution_count": 93,
     "metadata": {},
     "output_type": "execute_result"
    },
    {
     "data": {
      "image/png": "[encoded data removed]",
      "text/plain": [
       "<Figure size 432x288 with 1 Axes>"
      ]
     },
     "metadata": {
      "needs_background": "light"
     },
     "output_type": "display_data"
    }
   ],
   "source": [
    "plt.scatter(x[:,0],y)"
   ]
  },
  {
   "cell_type": "code",
   "execution_count": 94,
   "metadata": {},
   "outputs": [],
   "source": [
    "def mse(y_pred,y_actual):# mean square error\n",
    "    return ((y_pred-y_actual)**2).mean()\n",
    "\n"
   ]
  },
  {
   "cell_type": "markdown",
   "metadata": {},
   "source": [
    "## Suppose we believe a = (-1.0,1.0) then we can compute y_hat which is our prediction and then compute our error."
   ]
  },
  {
   "cell_type": "code",
   "execution_count": 95,
   "metadata": {},
   "outputs": [],
   "source": [
    "a=tensor(-1.,1)\n"
   ]
  },
  {
   "cell_type": "code",
   "execution_count": 96,
   "metadata": {},
   "outputs": [
    {
     "name": "stdout",
     "output_type": "stream",
     "text": [
      "Parameter containing:\n",
      "tensor([-1.,  1.], requires_grad=True)\n"
     ]
    }
   ],
   "source": [
    "a = nn.Parameter(a); print(a)"
   ]
  },
  {
   "cell_type": "code",
   "execution_count": 97,
   "metadata": {},
   "outputs": [],
   "source": [
    "a = nn.Parameter(a); \n",
    "def update():\n",
    "    y_hat = x@a\n",
    "    loss = mse(y,y_hat)\n",
    "    #print('loss is ',loss)\n",
    "    if t % 10 == 0: print(loss)\n",
    "    loss.backward()\n",
    "    with torch.no_grad():\n",
    "        #print('grad is  ',a.grad)\n",
    "        a.sub_(lr * a.grad)\n",
    "        a.grad.zero_()\n"
   ]
  },
  {
   "cell_type": "code",
   "execution_count": 98,
   "metadata": {},
   "outputs": [
    {
     "name": "stdout",
     "output_type": "stream",
     "text": [
      "tensor(6.0246, grad_fn=<MeanBackward0>)\n",
      "tensor(1.6202, grad_fn=<MeanBackward0>)\n",
      "tensor(0.5032, grad_fn=<MeanBackward0>)\n",
      "tensor(0.1902, grad_fn=<MeanBackward0>)\n",
      "tensor(0.1022, grad_fn=<MeanBackward0>)\n",
      "tensor(0.0774, grad_fn=<MeanBackward0>)\n",
      "tensor(0.0704, grad_fn=<MeanBackward0>)\n",
      "tensor(0.0685, grad_fn=<MeanBackward0>)\n",
      "tensor(0.0679, grad_fn=<MeanBackward0>)\n",
      "tensor(0.0678, grad_fn=<MeanBackward0>)\n"
     ]
    }
   ],
   "source": [
    "lr = 1e-1\n",
    "for t in range (100):\n",
    "    update()\n",
    "    "
   ]
  },
  {
   "cell_type": "code",
   "execution_count": 99,
   "metadata": {},
   "outputs": [
    {
     "data": {
      "image/png": "[encoded data removed]",
      "text/plain": [
       "<Figure size 432x288 with 1 Axes>"
      ]
     },
     "metadata": {
      "needs_background": "light"
     },
     "output_type": "display_data"
    }
   ],
   "source": [
    "plt.scatter(x[:,0],y)\n",
    "plt.scatter(x[:,0],x@a);"
   ]
  },
  {
   "cell_type": "code",
   "execution_count": null,
   "metadata": {},
   "outputs": [],
   "source": []
  }
 ],
 "metadata": {
  "kernelspec": {
   "display_name": "Python 3",
   "language": "python",
   "name": "python3"
  },
  "language_info": {
   "codemirror_mode": {
    "name": "ipython",
    "version": 3
   },
   "file_extension": ".py",
   "mimetype": "text/x-python",
   "name": "python",
   "nbconvert_exporter": "python",
   "pygments_lexer": "ipython3",
   "version": "3.7.3"
  }
 },
 "nbformat": 4,
 "nbformat_minor": 2
}
