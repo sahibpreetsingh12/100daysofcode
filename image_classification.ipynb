{
  "nbformat": 4,
  "nbformat_minor": 0,
  "metadata": {
    "colab": {
      "name": "image_classification.ipynb",
      "version": "0.3.2",
      "provenance": [],
      "include_colab_link": true
    },
    "kernelspec": {
      "name": "python2",
      "display_name": "Python 2"
    },
    "accelerator": "TPU"
  },
  "cells": [
    {
      "cell_type": "markdown",
      "metadata": {
        "id": "view-in-github",
        "colab_type": "text"
      },
      "source": [
        "<a href=\"https://colab.research.google.com/github/sahibpreetsingh12/100daysofcode/blob/master/image_classification.ipynb\" target=\"_parent\"><img src=\"https://colab.research.google.com/assets/colab-badge.svg\" alt=\"Open In Colab\"/></a>"
      ]
    },
    {
      "metadata": {
        "id": "yuzXW5NPSnue",
        "colab_type": "code",
        "colab": {}
      },
      "cell_type": "code",
      "source": [
        "from keras.layers import Conv2D\n",
        "from keras.layers import Dense\n",
        "from keras.layers import Flatten\n",
        "from keras.preprocessing import image\n",
        "from keras.layers import MaxPooling2D\n",
        "from keras.models import Sequential\n",
        "from keras.models import load_model\n",
        "import numpy as np\n",
        "import os\n",
        "import glob\n",
        "import tensorflow as tf\n",
        "import time, os, fnmatch, shutil\n",
        "from keras.models import load_model\n",
        "from keras.preprocessing.image import ImageDataGenerator"
      ],
      "execution_count": 0,
      "outputs": []
    },
    {
      "metadata": {
        "id": "K1nXp4iYjPYf",
        "colab_type": "code",
        "outputId": "910a5d01-fd74-4023-dbaa-4bbae3963bde",
        "colab": {
          "base_uri": "https://localhost:8080/",
          "height": 34
        }
      },
      "cell_type": "code",
      "source": [
        "class Model():\n",
        "  \n",
        "  def load_model(self):\n",
        "    classifier = tf.keras.models.Sequential()\n",
        "    classifier.add(tf.keras.layers.Conv2D(32, (3, 3), input_shape=(64, 64, 3),\n",
        "                   activation='relu'))\n",
        "    classifier.add(tf.keras.layers.MaxPooling2D(pool_size=(2, 2)))\n",
        "    classifier.add(tf.keras.layers.Conv2D(32, (3, 3), activation='relu'))\n",
        "    classifier.add(tf.keras.layers.MaxPooling2D(pool_size=(2, 2)))\n",
        "    classifier.add(tf.keras.layers.Flatten())\n",
        "    classifier.add(tf.keras.layers.Dense(units=128, activation='relu'))\n",
        "    classifier.add(tf.keras.layers.Dense(units=4, activation='softmax'))  \n",
        "    return classifier\n",
        "  \n",
        "  def train(self):\n",
        "    model=load_model()\n",
        "    training_set,test_set=load_data()\n",
        "    tpu_model = tf.contrib.tpu.keras_to_tpu_model(\n",
        "        model,\n",
        "        strategy=tf.contrib.tpu.TPUDistributionStrategy(\n",
        "            tf.contrib.cluster_resolver.TPUClusterResolver(tpu='grpc://' + os.environ['COLAB_TPU_ADDR'])\n",
        "        )\n",
        "    )\n",
        "    tpu_model.compile(tf.train.AdamOptimizer(), loss='categorical_crossentropy',\n",
        "                       metrics=['accuracy'])\n",
        "    history=tpu_model.fit_generator(training_set, steps_per_epoch=10, epochs=20,\n",
        "                             validation_data=test_set,\n",
        "                             validation_steps=5)\n",
        "    export_model(tpu_model)\n",
        "  \n",
        "  def export_model(tpu_model):\n",
        "    t = time.localtime()\n",
        "    timestamp = time.strftime('%b-%d_%H%M', t)\n",
        "    tpu_model.save_weights(timestamp+'.h5')\n",
        "  \n",
        "  def load_weights():  \n",
        "    list_of_files = glob.glob('/content/*') # * means all if need specific format then *.csv\n",
        "    latest_file = max(list_of_files, key=os.path.getctime)\n",
        "    classifier=load_model()\n",
        "    classifier.load_weights(\"latest_file\")\n",
        "  \n",
        "  def predict():\n",
        "    img_path = '/content/train_images/14743.png'\n",
        "    new_image = test(img_path)\n",
        "\n",
        "    def test(img_path, show=False):\n",
        "      load_weights()\n",
        "      img = image.load_img(img_path, target_size=(64, 64))\n",
        "      img_tensor = image.img_to_array(img)                    # (height, width, channels)\n",
        "      img_tensor = np.expand_dims(img_tensor, axis=0)         # (1, height, width, channels), add a dimension because the model expects this shape: (batch_size, height, width, channels)\n",
        "      img_tensor /= 255.                                      # imshow expects values in the range [0, 1]\n",
        "\n",
        "      if show:\n",
        "          plt.imshow(img_tensor[0])                           \n",
        "          plt.axis('off')\n",
        "          plt.show()\n",
        "\n",
        "      return img_tensor\n",
        "    print (classifier.predict_classes(new_image,))\n",
        "  \n",
        "  \n",
        "test_final=Model()\n",
        "test_final.load_model()\n",
        "test_final.predict()\n",
        "  "
      ],
      "execution_count": 0,
      "outputs": [
        {
          "output_type": "stream",
          "text": [
            "[3]\n"
          ],
          "name": "stdout"
        }
      ]
    },
    {
      "metadata": {
        "id": "aL_bHv4x99fP",
        "colab_type": "code",
        "colab": {}
      },
      "cell_type": "code",
      "source": [
        "def load_data():\n",
        "  train_imagedata = ImageDataGenerator(rescale=1. / 255, shear_range=0.2,\n",
        "          zoom_range=0.2, horizontal_flip=True)\n",
        "  test_imagedata = ImageDataGenerator(rescale=1. / 255)\n",
        "  training_set = \\\n",
        "      train_imagedata.flow_from_directory('Samples'\n",
        "          , target_size=(64, 64), batch_size=32, class_mode='categorical')\n",
        "  test_set = \\\n",
        "      test_imagedata.flow_from_directory('Samples_old'\n",
        "          , target_size=(64, 64), batch_size=32, class_mode='categorical')\n",
        "  return(training_set,test_set)\n"
      ],
      "execution_count": 0,
      "outputs": []
    },
    {
      "metadata": {
        "id": "BrjD7p4Z_Xwa",
        "colab_type": "code",
        "outputId": "8c95c730-da1b-4489-e27c-9e1cc9dd26b1",
        "colab": {
          "base_uri": "https://localhost:8080/",
          "height": 51
        }
      },
      "cell_type": "code",
      "source": [
        "t,p = load_data()"
      ],
      "execution_count": 0,
      "outputs": [
        {
          "output_type": "stream",
          "text": [
            "Found 77 images belonging to 4 classes.\n",
            "Found 47 images belonging to 4 classes.\n"
          ],
          "name": "stdout"
        }
      ]
    },
    {
      "metadata": {
        "id": "OQGdQbum_kcr",
        "colab_type": "code",
        "outputId": "a9d58828-c550-4815-fb7d-04f87112c827",
        "colab": {
          "base_uri": "https://localhost:8080/",
          "height": 34
        }
      },
      "cell_type": "code",
      "source": [
        "t.class_indices"
      ],
      "execution_count": 0,
      "outputs": [
        {
          "output_type": "execute_result",
          "data": {
            "text/plain": [
              "{'DO_New': 0, 'Invoice_New': 1, 'PO_New': 2, 'PaymentVoucher_New': 3}"
            ]
          },
          "metadata": {
            "tags": []
          },
          "execution_count": 125
        }
      ]
    },
    {
      "metadata": {
        "id": "AiX1k-ZVTICS",
        "colab_type": "code",
        "colab": {}
      },
      "cell_type": "code",
      "source": [
        "def load_model():\n",
        "  classifier = tf.keras.models.Sequential()\n",
        "  classifier.add(tf.keras.layers.Conv2D(32, (3, 3), input_shape=(64, 64, 3),\n",
        "                 activation='relu'))\n",
        "  classifier.add(tf.keras.layers.MaxPooling2D(pool_size=(2, 2)))\n",
        "  classifier.add(tf.keras.layers.Conv2D(32, (3, 3), activation='relu'))\n",
        "  classifier.add(tf.keras.layers.MaxPooling2D(pool_size=(2, 2)))\n",
        "  classifier.add(tf.keras.layers.Flatten())\n",
        "  classifier.add(tf.keras.layers.Dense(units=128, activation='relu'))\n",
        "  classifier.add(tf.keras.layers.Dense(units=4, activation='softmax'))  \n",
        "  return classifier\n"
      ],
      "execution_count": 0,
      "outputs": []
    },
    {
      "metadata": {
        "id": "gwwMSDu29ndU",
        "colab_type": "code",
        "colab": {}
      },
      "cell_type": "code",
      "source": [
        "def train():\n",
        "  model=load_model()\n",
        "  training_set,test_set=load_data()\n",
        "  tpu_model = tf.contrib.tpu.keras_to_tpu_model(\n",
        "      model,\n",
        "      strategy=tf.contrib.tpu.TPUDistributionStrategy(\n",
        "          tf.contrib.cluster_resolver.TPUClusterResolver(tpu='grpc://' + os.environ['COLAB_TPU_ADDR'])\n",
        "      )\n",
        "  )\n",
        "  tpu_model.compile(tf.train.AdamOptimizer(), loss='categorical_crossentropy',\n",
        "                     metrics=['accuracy'])\n",
        "  history=tpu_model.fit_generator(training_set, steps_per_epoch=10, epochs=20,\n",
        "                           validation_data=test_set,\n",
        "                           validation_steps=5)\n",
        "  export_model(tpu_model)"
      ],
      "execution_count": 0,
      "outputs": []
    },
    {
      "metadata": {
        "id": "_4Y-YLGeTbfS",
        "colab_type": "code",
        "colab": {}
      },
      "cell_type": "code",
      "source": [
        "def export_model(tpu_model):\n",
        "  t = time.localtime()\n",
        "  timestamp = time.strftime('%b-%d_%H%M', t)\n",
        "  tpu_model.save_weights(timestamp+'.h5')\n"
      ],
      "execution_count": 0,
      "outputs": []
    },
    {
      "metadata": {
        "id": "uuaeEJgPh429",
        "colab_type": "code",
        "colab": {}
      },
      "cell_type": "code",
      "source": [
        "def load_weights():  \n",
        "  list_of_files = glob.glob('/content/*') # * means all if need specific format then *.csv\n",
        "  latest_file = max(list_of_files, key=os.path.getctime)\n",
        "  print(latest_file)\n",
        "  load_model()\n",
        "  classifier.load_weights(\"latest_file\")"
      ],
      "execution_count": 0,
      "outputs": []
    },
    {
      "metadata": {
        "id": "YaWmmtKS8BnU",
        "colab_type": "code",
        "outputId": "5bf4582c-f7b8-4c7b-e1a5-8a3f94517ce2",
        "colab": {
          "base_uri": "https://localhost:8080/",
          "height": 34
        }
      },
      "cell_type": "code",
      "source": [
        "list_of_files = glob.glob('/content/*') # * means all if need specific format then *.csv\n",
        "latest_file = max(list_of_files, key=os.path.getctime)\n",
        "print(latest_file)"
      ],
      "execution_count": 0,
      "outputs": [
        {
          "output_type": "stream",
          "text": [
            "/content/Jan-11-2019_0732.h5\n"
          ],
          "name": "stdout"
        }
      ]
    },
    {
      "metadata": {
        "id": "UnbY4Qzz8IJz",
        "colab_type": "code",
        "outputId": "384af837-db69-44fd-a006-25d00347e8c2",
        "colab": {
          "base_uri": "https://localhost:8080/",
          "height": 153
        }
      },
      "cell_type": "code",
      "source": [
        "list_of_files"
      ],
      "execution_count": 0,
      "outputs": [
        {
          "output_type": "execute_result",
          "data": {
            "text/plain": [
              "['/content/gdrive',\n",
              " '/content/Jan-11-2019_0732.h5',\n",
              " '/content/Samples_old',\n",
              " '/content/Jan-11-2019_0723',\n",
              " '/content/Samples',\n",
              " '/content/Jan-11-2019_0727.h5',\n",
              " '/content/train_images',\n",
              " '/content/sample_data']"
            ]
          },
          "metadata": {
            "tags": []
          },
          "execution_count": 123
        }
      ]
    },
    {
      "metadata": {
        "id": "E_d8GiEQWuQA",
        "colab_type": "code",
        "colab": {}
      },
      "cell_type": "code",
      "source": [
        "def predict():\n",
        "  img_path = '/content/train_images/14743.png'\n",
        "  new_image = test(img_path)\n",
        "  \n",
        "  def test(img_path, show=False):\n",
        "    load_weights()\n",
        "    img = image.load_img(img_path, target_size=(64, 64))\n",
        "    img_tensor = image.img_to_array(img)                    # (height, width, channels)\n",
        "    img_tensor = np.expand_dims(img_tensor, axis=0)         # (1, height, width, channels), add a dimension because the model expects this shape: (batch_size, height, width, channels)\n",
        "    img_tensor /= 255.                                      # imshow expects values in the range [0, 1]\n",
        "\n",
        "    if show:\n",
        "        plt.imshow(img_tensor[0])                           \n",
        "        plt.axis('off')\n",
        "        plt.show()\n",
        "\n",
        "    return img_tensor\n",
        "  print (classifier.predict_classes(new_image,))"
      ],
      "execution_count": 0,
      "outputs": []
    },
    {
      "metadata": {
        "id": "HkzpTil-0tJo",
        "colab_type": "code",
        "outputId": "5e7fda86-2ef6-4d3b-9710-3c2a8b8ec0ec",
        "colab": {
          "base_uri": "https://localhost:8080/",
          "height": 180
        }
      },
      "cell_type": "code",
      "source": [
        "classes = train_imagedata.class_indices    \n",
        "print(classes)"
      ],
      "execution_count": 0,
      "outputs": [
        {
          "output_type": "error",
          "ename": "AttributeError",
          "evalue": "ignored",
          "traceback": [
            "\u001b[0;31m\u001b[0m",
            "\u001b[0;31mAttributeError\u001b[0mTraceback (most recent call last)",
            "\u001b[0;32m<ipython-input-117-7614379767d7>\u001b[0m in \u001b[0;36m<module>\u001b[0;34m()\u001b[0m\n\u001b[0;32m----> 1\u001b[0;31m \u001b[0mclasses\u001b[0m \u001b[0;34m=\u001b[0m \u001b[0mtrain_imagedata\u001b[0m\u001b[0;34m.\u001b[0m\u001b[0mclass_indices\u001b[0m\u001b[0;34m\u001b[0m\u001b[0m\n\u001b[0m\u001b[1;32m      2\u001b[0m \u001b[0;32mprint\u001b[0m\u001b[0;34m(\u001b[0m\u001b[0mclasses\u001b[0m\u001b[0;34m)\u001b[0m\u001b[0;34m\u001b[0m\u001b[0m\n",
            "\u001b[0;31mAttributeError\u001b[0m: 'ImageDataGenerator' object has no attribute 'class_indices'"
          ]
        }
      ]
    },
    {
      "metadata": {
        "id": "kx8jvNNsR6_m",
        "colab_type": "code",
        "colab": {}
      },
      "cell_type": "code",
      "source": [
        "if __name__ == '__main__':\n",
        "  load_weights()\n",
        "  prediction()\n",
        "  "
      ],
      "execution_count": 0,
      "outputs": []
    },
    {
      "metadata": {
        "id": "CjYU_WIkqK0T",
        "colab_type": "code",
        "colab": {}
      },
      "cell_type": "code",
      "source": [
        "''''\n",
        "import pandas as pd\n",
        "df = pd.DataFrame()\n",
        "df['loss'] = history.history['loss']\n",
        "df['val_loss'] = history.history['val_loss']\n",
        "df['acc'] = history.history['acc']\n",
        "df['val_acc'] = history.history['val_acc']\n"
      ],
      "execution_count": 0,
      "outputs": []
    },
    {
      "metadata": {
        "id": "xZXzttRiqs0M",
        "colab_type": "code",
        "colab": {}
      },
      "cell_type": "code",
      "source": [
        "''''df['epochs'] = range(1,21)\n"
      ],
      "execution_count": 0,
      "outputs": []
    },
    {
      "metadata": {
        "id": "-muWc92Tsaw-",
        "colab_type": "code",
        "colab": {}
      },
      "cell_type": "code",
      "source": [
        "''''df.to_csv('ditium_report.csv')"
      ],
      "execution_count": 0,
      "outputs": []
    },
    {
      "metadata": {
        "id": "KJW6xro8rhPm",
        "colab_type": "code",
        "colab": {}
      },
      "cell_type": "code",
      "source": [
        "''''df.index = df.epochs"
      ],
      "execution_count": 0,
      "outputs": []
    },
    {
      "metadata": {
        "id": "DhT3A266orOE",
        "colab_type": "code",
        "outputId": "04f02198-28cd-4040-eed0-eab47dd52956",
        "colab": {
          "base_uri": "https://localhost:8080/",
          "height": 752
        }
      },
      "cell_type": "code",
      "source": [
        "''''import matplotlib.pyplot as plt\n",
        "print(history.history.keys())\n",
        "# Loss\n",
        "plt.plot(history.history['loss'])\n",
        "plt.plot(history.history['val_loss'])\n",
        "plt.title('model loss')\n",
        "plt.ylabel('loss')\n",
        "plt.xlabel('epoch')\n",
        "plt.legend(['loss', 'val_loss'], loc='best')\n",
        "plt.show()\n",
        "# Accuracy\n",
        "plt.plot(history.history['acc'])\n",
        "plt.plot(history.history['val_acc'])\n",
        "plt.title('model accuracy')\n",
        "plt.ylabel('accuracy')\n",
        "plt.xlabel('epoch')\n",
        "plt.legend(['acc', 'val_acc'], loc='best')\n",
        "plt.show()"
      ],
      "execution_count": 0,
      "outputs": [
        {
          "output_type": "stream",
          "text": [
            "['acc', 'loss', 'val_acc', 'val_loss']\n"
          ],
          "name": "stdout"
        },
        {
          "output_type": "display_data",
          "data": {
            "image/png": "[encoded data removed]",
            "text/plain": [
              "<matplotlib.figure.Figure at 0x7f3fe2e37490>"
            ]
          },
          "metadata": {
            "tags": []
          }
        },
        {
          "output_type": "display_data",
          "data": {
            "image/png": "[encoded data removed]",
            "text/plain": [
              "<matplotlib.figure.Figure at 0x7f3fe2d1df10>"
            ]
          },
          "metadata": {
            "tags": []
          }
        }
      ]
    },
    {
      "metadata": {
        "id": "1ROo5EZEosDc",
        "colab_type": "code",
        "colab": {}
      },
      "cell_type": "code",
      "source": [
        ""
      ],
      "execution_count": 0,
      "outputs": []
    }
  ]
}