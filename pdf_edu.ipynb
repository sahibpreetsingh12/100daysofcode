{
  "nbformat": 4,
  "nbformat_minor": 0,
  "metadata": {
    "colab": {
      "name": "pdf_edu.ipynb",
      "version": "0.3.2",
      "provenance": [],
      "toc_visible": true,
      "include_colab_link": true
    },
    "kernelspec": {
      "name": "python3",
      "display_name": "Python 3"
    }
  },
  "cells": [
    {
      "cell_type": "markdown",
      "metadata": {
        "id": "view-in-github",
        "colab_type": "text"
      },
      "source": [
        "<a href=\"https://colab.research.google.com/github/sahibpreetsingh12/100daysofcode/blob/master/pdf_edu.ipynb\" target=\"_parent\"><img src=\"https://colab.research.google.com/assets/colab-badge.svg\" alt=\"Open In Colab\"/></a>"
      ]
    },
    {
      "metadata": {
        "id": "CsQwdEs5ES7b",
        "colab_type": "code",
        "colab": {
          "base_uri": "https://localhost:8080/",
          "height": 34
        },
        "outputId": "2a5febf9-fad9-4a6e-cb64-29727031203f"
      },
      "cell_type": "code",
      "source": [
        "from __future__ import print_function\n",
        "import keras\n",
        "from keras.datasets import cifar10\n",
        "from keras.models import Sequential\n",
        "from keras.layers import Dense, Dropout, Activation, Flatten\n",
        "from keras.layers import Conv2D, MaxPooling2D\n",
        "from keras.optimizers import SGD\n",
        "from keras.utils import print_summary, to_categorical\n",
        "import sys\n",
        "import socket\n",
        "import numpy as np\n",
        "import matplotlib.pyplot as plt\n",
        "import os\n",
        "import cv2\n",
        "import tqdm\n",
        "np.set_printoptions(threshold=np.nan)"
      ],
      "execution_count": 1,
      "outputs": [
        {
          "output_type": "stream",
          "text": [
            "Using TensorFlow backend.\n"
          ],
          "name": "stderr"
        }
      ]
    },
    {
      "metadata": {
        "id": "M4iM5VXsVZLC",
        "colab_type": "code",
        "colab": {
          "base_uri": "https://localhost:8080/",
          "height": 121
        },
        "outputId": "e23e5143-8b88-45a8-8d53-dd3faeece9bd"
      },
      "cell_type": "code",
      "source": [
        "from google.colab import drive\n",
        "drive.mount('/content/gdrive')"
      ],
      "execution_count": 18,
      "outputs": [
        {
          "output_type": "stream",
          "text": [
            "Go to this URL in a browser: https://accounts.google.com/o/oauth2/auth?client_id=947318989803-6bn6qk8qdgf4n4g3pfee6491hc0brc4i.apps.googleusercontent.com&redirect_uri=urn%3Aietf%3Awg%3Aoauth%3A2.0%3Aoob&scope=email%20https%3A%2F%2Fwww.googleapis.com%2Fauth%2Fdocs.test%20https%3A%2F%2Fwww.googleapis.com%2Fauth%2Fdrive%20https%3A%2F%2Fwww.googleapis.com%2Fauth%2Fdrive.photos.readonly%20https%3A%2F%2Fwww.googleapis.com%2Fauth%2Fpeopleapi.readonly&response_type=code\n",
            "\n",
            "Enter your authorization code:\n",
            "··········\n",
            "Mounted at /content/gdrive\n"
          ],
          "name": "stdout"
        }
      ]
    },
    {
      "metadata": {
        "id": "tm35Gq9yVoki",
        "colab_type": "code",
        "colab": {}
      },
      "cell_type": "code",
      "source": [
        "!unzip gdrive/My\\ Drive/Samples.zip"
      ],
      "execution_count": 0,
      "outputs": []
    },
    {
      "metadata": {
        "id": "gvajM2ohLuVG",
        "colab_type": "text"
      },
      "cell_type": "markdown",
      "source": [
        "# **Training Model**"
      ]
    },
    {
      "metadata": {
        "id": "VV6YsXipL7Um",
        "colab_type": "code",
        "colab": {}
      },
      "cell_type": "code",
      "source": [
        "\n",
        "num_classes = 4\n",
        "epochs = 10"
      ],
      "execution_count": 0,
      "outputs": []
    },
    {
      "metadata": {
        "id": "JxHYeDP4Zn2k",
        "colab_type": "code",
        "colab": {
          "base_uri": "https://localhost:8080/",
          "height": 351
        },
        "outputId": "d944ea29-ca34-4787-b798-042e5994c534"
      },
      "cell_type": "code",
      "source": [
        "DATADIR = \"/content/Samples\"\n",
        "\n",
        "CATEGORIES = [\"DO_New\"\t, \"Invoice_New\" , \"PaymentVoucher_New\" , \"PO_New\"]\n",
        "#print(len(CATEGORIES))\n",
        "for category in CATEGORIES:  \n",
        "    path = os.path.join(DATADIR,category) \n",
        "    for img in os.listdir(path):  # iterate over each image \n",
        "        img_array = cv2.imread(os.path.join(path,img) )  # convert to array\n",
        "        plt.imshow(img_array)  # graph it\n",
        "        plt.show()  # display!\n",
        "\n",
        "        break  # we just want one for now so break\n",
        "    break  #...and one more!"
      ],
      "execution_count": 3,
      "outputs": [
        {
          "output_type": "display_data",
          "data": {
            "image/png": "[encoded data removed]",
            "text/plain": [
              "<matplotlib.figure.Figure at 0x7f44abc9c5f8>"
            ]
          },
          "metadata": {
            "tags": []
          }
        }
      ]
    },
    {
      "metadata": {
        "id": "FMWWNAYIaqWC",
        "colab_type": "code",
        "colab": {}
      },
      "cell_type": "code",
      "source": [
        "IMG_SIZE = 256"
      ],
      "execution_count": 0,
      "outputs": []
    },
    {
      "metadata": {
        "id": "p1d1tM8yat31",
        "colab_type": "code",
        "colab": {
          "base_uri": "https://localhost:8080/",
          "height": 350
        },
        "outputId": "a6aeb52b-ad46-4811-8280-c8cb5ed7888e"
      },
      "cell_type": "code",
      "source": [
        "new_array = cv2.resize(img_array, (IMG_SIZE, IMG_SIZE))\n",
        "plt.imshow(new_array)\n",
        "plt.show()\n"
      ],
      "execution_count": 5,
      "outputs": [
        {
          "output_type": "display_data",
          "data": {
            "image/png": "[encoded data removed]",
            "text/plain": [
              "<matplotlib.figure.Figure at 0x7f44c26c1b00>"
            ]
          },
          "metadata": {
            "tags": []
          }
        }
      ]
    },
    {
      "metadata": {
        "id": "8jYTL8ZNxayc",
        "colab_type": "code",
        "colab": {
          "base_uri": "https://localhost:8080/",
          "height": 34
        },
        "outputId": "bde7bbea-e69b-46d2-df63-be03c5b5516f"
      },
      "cell_type": "code",
      "source": [
        "new_array.shape"
      ],
      "execution_count": 6,
      "outputs": [
        {
          "output_type": "execute_result",
          "data": {
            "text/plain": [
              "(256, 256, 3)"
            ]
          },
          "metadata": {
            "tags": []
          },
          "execution_count": 6
        }
      ]
    },
    {
      "metadata": {
        "id": "zVYb3JlIbOcl",
        "colab_type": "code",
        "colab": {}
      },
      "cell_type": "code",
      "source": [
        "training_data = []\n",
        "\n",
        "def create_training_data():\n",
        "    for category in CATEGORIES:  \n",
        "\n",
        "        path = os.path.join(DATADIR,category) \n",
        "        class_num = CATEGORIES.index(category) \n",
        "        #print(class_num)\n",
        "\n",
        "        for img in os.listdir(path):  \n",
        "            try:\n",
        "                img_array = cv2.imread(os.path.join(path,img))  # convert to array\n",
        "                new_array = cv2.resize(img_array, (IMG_SIZE, IMG_SIZE))  # resize to normalize data size\n",
        "                #print([new_array, class_num])\n",
        "                training_data.append([new_array, class_num])  # add this to our training_data\n",
        "            except Exception as e:  # in the interest in keeping the output clean...\n",
        "                pass\n",
        "\n",
        "create_training_data()\n"
      ],
      "execution_count": 0,
      "outputs": []
    },
    {
      "metadata": {
        "id": "2hIUjZvCRN0R",
        "colab_type": "code",
        "colab": {}
      },
      "cell_type": "code",
      "source": [
        "\n",
        "import random\n",
        "\n",
        "random.shuffle(training_data)\n",
        "#print(training_data[1])"
      ],
      "execution_count": 0,
      "outputs": []
    },
    {
      "metadata": {
        "id": "6Fthz4XTcWJA",
        "colab_type": "code",
        "colab": {
          "base_uri": "https://localhost:8080/",
          "height": 34
        },
        "outputId": "2da3536c-3e6b-4cdf-d49d-de012c13e7e1"
      },
      "cell_type": "code",
      "source": [
        "X = []\n",
        "y = []\n",
        "\n",
        "for features,label in training_data:\n",
        "    X.append(features)\n",
        "    y.append(label)\n",
        "\n",
        "#print(X[0].reshape(-1, IMG_SIZE, IMG_SIZE, 1))\n",
        "\n",
        "#X = np.array(X).reshape(-1, IMG_SIZE, IMG_SIZE, 1)\n",
        "X[0].shape"
      ],
      "execution_count": 9,
      "outputs": [
        {
          "output_type": "execute_result",
          "data": {
            "text/plain": [
              "(256, 256, 3)"
            ]
          },
          "metadata": {
            "tags": []
          },
          "execution_count": 9
        }
      ]
    },
    {
      "metadata": {
        "id": "AijBZqX1RENQ",
        "colab_type": "code",
        "colab": {}
      },
      "cell_type": "code",
      "source": [
        "X = np.array(X).astype('float32')\n",
        "X /= 255.0\n"
      ],
      "execution_count": 0,
      "outputs": []
    },
    {
      "metadata": {
        "id": "aIgE0C5sUs92",
        "colab_type": "code",
        "colab": {}
      },
      "cell_type": "code",
      "source": [
        "model = Sequential()\n",
        "model.add(Conv2D(64, (3, 3), padding='same', input_shape=X.shape[1:]))\n",
        "model.add(Activation('relu'))\n",
        "model.add(MaxPooling2D(pool_size=(2, 2)))\n",
        "model.add(Dropout(0.3))\n",
        "\n",
        "model.add(Conv2D(64, (3, 3), padding='same'))\n",
        "model.add(Activation('relu'))\n",
        "model.add(MaxPooling2D(pool_size=(2, 2)))\n",
        "#model.add(Dropout(0.3))\n",
        "\"\"\"\n",
        "model.add(Conv2D(128, (3, 3), padding='same', input_shape=X.shape[1:]))\n",
        "model.add(Activation('relu'))\n",
        "model.add(MaxPooling2D(pool_size=(2, 2)))\n",
        "#model.add(Dropout(0.4))\n",
        "\"\"\"\n",
        "model.add(Flatten())\n",
        "model.add(Dense(80))\n",
        "model.add(Activation('relu'))\n",
        "model.add(Dropout(0.3))\n",
        "model.add(Dense(len(CATEGORIES)))\n",
        "model.add(Activation('softmax'))"
      ],
      "execution_count": 0,
      "outputs": []
    },
    {
      "metadata": {
        "id": "KtMuPUFnVATV",
        "colab_type": "code",
        "colab": {}
      },
      "cell_type": "code",
      "source": [
        "model.compile(loss='categorical_crossentropy',\n",
        "              optimizer='adam',\n",
        "              metrics=['accuracy'])"
      ],
      "execution_count": 0,
      "outputs": []
    },
    {
      "metadata": {
        "id": "c34ylEXYQ4T3",
        "colab_type": "code",
        "colab": {
          "base_uri": "https://localhost:8080/",
          "height": 739
        },
        "outputId": "5714733e-8fcc-4830-f1f9-5329d6f60e58"
      },
      "cell_type": "code",
      "source": [
        "one_hot_labels = keras.utils.to_categorical(y, num_classes=len(CATEGORIES))\n",
        "print(len(one_hot_labels))\n",
        "model.fit(X,one_hot_labels ,\n",
        "          batch_size=32,\n",
        "          epochs=20, validation_split=0.2\n",
        "          )"
      ],
      "execution_count": 23,
      "outputs": [
        {
          "output_type": "stream",
          "text": [
            "77\n",
            "Train on 61 samples, validate on 16 samples\n",
            "Epoch 1/20\n",
            "61/61 [==============================] - 16s 268ms/step - loss: 4.1501 - acc: 0.2787 - val_loss: 6.6686 - val_acc: 0.2500\n",
            "Epoch 2/20\n",
            "61/61 [==============================] - 15s 249ms/step - loss: 9.0718 - acc: 0.3770 - val_loss: 7.0517 - val_acc: 0.5625\n",
            "Epoch 3/20\n",
            "61/61 [==============================] - 15s 251ms/step - loss: 6.6446 - acc: 0.5738 - val_loss: 5.8289 - val_acc: 0.5625\n",
            "Epoch 4/20\n",
            "61/61 [==============================] - 15s 248ms/step - loss: 6.0400 - acc: 0.6230 - val_loss: 3.3526 - val_acc: 0.5625\n",
            "Epoch 5/20\n",
            "61/61 [==============================] - 15s 249ms/step - loss: 5.3795 - acc: 0.5410 - val_loss: 1.6328 - val_acc: 0.5625\n",
            "Epoch 6/20\n",
            "61/61 [==============================] - 15s 249ms/step - loss: 3.6355 - acc: 0.4918 - val_loss: 0.9407 - val_acc: 0.7500\n",
            "Epoch 7/20\n",
            "61/61 [==============================] - 15s 248ms/step - loss: 1.6217 - acc: 0.7541 - val_loss: 1.3303 - val_acc: 0.7500\n",
            "Epoch 8/20\n",
            "61/61 [==============================] - 15s 247ms/step - loss: 0.8341 - acc: 0.8361 - val_loss: 1.3161 - val_acc: 0.7500\n",
            "Epoch 9/20\n",
            "61/61 [==============================] - 15s 253ms/step - loss: 0.8324 - acc: 0.8197 - val_loss: 1.0907 - val_acc: 0.8125\n",
            "Epoch 10/20\n",
            "61/61 [==============================] - 15s 247ms/step - loss: 0.7330 - acc: 0.7705 - val_loss: 1.1261 - val_acc: 0.7500\n",
            "Epoch 11/20\n",
            "61/61 [==============================] - 15s 248ms/step - loss: 0.5883 - acc: 0.8361 - val_loss: 1.0727 - val_acc: 0.7500\n",
            "Epoch 12/20\n",
            "61/61 [==============================] - 15s 248ms/step - loss: 0.4347 - acc: 0.8689 - val_loss: 0.8581 - val_acc: 0.8125\n",
            "Epoch 13/20\n",
            "61/61 [==============================] - 15s 248ms/step - loss: 0.2909 - acc: 0.8689 - val_loss: 0.8063 - val_acc: 0.7500\n",
            "Epoch 14/20\n",
            "61/61 [==============================] - 15s 246ms/step - loss: 0.1817 - acc: 0.9836 - val_loss: 0.5470 - val_acc: 0.8125\n",
            "Epoch 15/20\n",
            "61/61 [==============================] - 15s 249ms/step - loss: 0.1662 - acc: 0.9508 - val_loss: 0.5802 - val_acc: 0.7500\n",
            "Epoch 16/20\n",
            "61/61 [==============================] - 15s 249ms/step - loss: 0.1231 - acc: 0.9508 - val_loss: 0.5724 - val_acc: 0.7500\n",
            "Epoch 17/20\n",
            "61/61 [==============================] - 15s 249ms/step - loss: 0.0787 - acc: 1.0000 - val_loss: 0.3002 - val_acc: 0.8125\n",
            "Epoch 18/20\n",
            "61/61 [==============================] - 15s 248ms/step - loss: 0.0491 - acc: 1.0000 - val_loss: 0.1625 - val_acc: 0.9375\n",
            "Epoch 19/20\n",
            "61/61 [==============================] - 15s 251ms/step - loss: 0.0264 - acc: 1.0000 - val_loss: 0.2368 - val_acc: 0.8750\n",
            "Epoch 20/20\n",
            "61/61 [==============================] - 15s 252ms/step - loss: 0.0748 - acc: 0.9672 - val_loss: 0.3226 - val_acc: 0.7500\n"
          ],
          "name": "stdout"
        },
        {
          "output_type": "execute_result",
          "data": {
            "text/plain": [
              "<keras.callbacks.History at 0x7f44a6e521d0>"
            ]
          },
          "metadata": {
            "tags": []
          },
          "execution_count": 23
        }
      ]
    },
    {
      "metadata": {
        "id": "3j5sIK0isKg_",
        "colab_type": "code",
        "colab": {}
      },
      "cell_type": "code",
      "source": [
        ""
      ],
      "execution_count": 0,
      "outputs": []
    }
  ]
}