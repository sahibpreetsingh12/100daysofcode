{
 "cells": [
  {
   "cell_type": "code",
   "execution_count": 17,
   "metadata": {},
   "outputs": [
    {
     "name": "stdout",
     "output_type": "stream",
     "text": [
      "tensor(529., grad_fn=<PowBackward0>)\n",
      "tensor(46.)\n"
     ]
    }
   ],
   "source": [
    "import torch\n",
    "x=torch.tensor(23,dtype=torch.float32)\n",
    "x.requires_grad_(requires_grad=True) \n",
    "y=x.pow(2)\n",
    "\n",
    "print(y)\n",
    "y.backward()\n",
    "print(x.grad)"
   ]
  },
  {
   "cell_type": "code",
   "execution_count": 40,
   "metadata": {},
   "outputs": [
    {
     "name": "stdout",
     "output_type": "stream",
     "text": [
      "tensor([[1., 1., 1.],\n",
      "        [1., 1., 1.],\n",
      "        [1., 1., 1.]], requires_grad=True)\n",
      "tensor([[3., 3., 3.],\n",
      "        [3., 3., 3.],\n",
      "        [3., 3., 3.]], grad_fn=<MulBackward0>) tensor(3., grad_fn=<MeanBackward1>)\n",
      "tensor([[0.6667, 0.6667, 0.6667],\n",
      "        [0.6667, 0.6667, 0.6667],\n",
      "        [0.6667, 0.6667, 0.6667]])\n"
     ]
    }
   ],
   "source": [
    "# x = torch.ones(2, 2, requires_grad=True)\n",
    "# print(x)\n",
    "y = torch.ones(3, 3, requires_grad=True)\n",
    "print(y)\n",
    "z = y * y * 3\n",
    "out = z.mean()\n",
    "\n",
    "print(z, out)\n",
    "\n",
    "out.backward()\n",
    "\n",
    "print(y.grad)\n",
    "# print(x.grad)"
   ]
  },
  {
   "cell_type": "code",
   "execution_count": null,
   "metadata": {},
   "outputs": [],
   "source": []
  }
 ],
 "metadata": {
  "kernelspec": {
   "display_name": "Python 3",
   "language": "python",
   "name": "python3"
  },
  "language_info": {
   "codemirror_mode": {
    "name": "ipython",
    "version": 3
   },
   "file_extension": ".py",
   "mimetype": "text/x-python",
   "name": "python",
   "nbconvert_exporter": "python",
   "pygments_lexer": "ipython3",
   "version": "3.5.2"
  }
 },
 "nbformat": 4,
 "nbformat_minor": 2
}
